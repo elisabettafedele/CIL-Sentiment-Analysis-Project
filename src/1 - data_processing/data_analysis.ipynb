{
  "cells": [
    {
      "cell_type": "markdown",
      "metadata": {
        "id": "DfTbjSXjhyJ0"
      },
      "source": [
        "# Data analysis and preprocessing\n",
        "\n",
        "The aim of this notebook is to first analyze the dataset provided and then, based on this analysis, do the processing of it."
      ]
    },
    {
      "cell_type": "code",
      "execution_count": 1,
      "metadata": {
        "execution": {
          "iopub.execute_input": "2022-07-30T10:40:49.135995Z",
          "iopub.status.busy": "2022-07-30T10:40:49.135614Z",
          "iopub.status.idle": "2022-07-30T10:40:49.696959Z",
          "shell.execute_reply": "2022-07-30T10:40:49.695735Z",
          "shell.execute_reply.started": "2022-07-30T10:40:49.135952Z"
        },
        "id": "xkzSuU0RhyJ2",
        "trusted": true
      },
      "outputs": [],
      "source": [
        "#imports\n",
        "import numpy as np\n",
        "import matplotlib.pyplot as plt\n",
        "import pandas as pd\n",
        "from sklearn.feature_extraction.text import CountVectorizer\n",
        "import re"
      ]
    },
    {
      "cell_type": "code",
      "execution_count": 2,
      "metadata": {
        "execution": {
          "iopub.execute_input": "2022-07-30T10:40:51.693243Z",
          "iopub.status.busy": "2022-07-30T10:40:51.692846Z",
          "iopub.status.idle": "2022-07-30T10:40:51.699184Z",
          "shell.execute_reply": "2022-07-30T10:40:51.697941Z",
          "shell.execute_reply.started": "2022-07-30T10:40:51.693212Z"
        },
        "id": "GtvzazKwhyJ2",
        "trusted": true
      },
      "outputs": [],
      "source": [
        "data_path = 'path/to/preprocessed/data/folder'"
      ]
    },
    {
      "cell_type": "markdown",
      "metadata": {
        "id": "7X6EkYzdhyJ3"
      },
      "source": [
        "First, we load the tweets"
      ]
    },
    {
      "cell_type": "code",
      "execution_count": 3,
      "metadata": {
        "colab": {
          "base_uri": "https://localhost:8080/"
        },
        "execution": {
          "iopub.execute_input": "2022-07-30T10:40:54.309918Z",
          "iopub.status.busy": "2022-07-30T10:40:54.309336Z",
          "iopub.status.idle": "2022-07-30T10:41:03.499477Z",
          "shell.execute_reply": "2022-07-30T10:41:03.498170Z",
          "shell.execute_reply.started": "2022-07-30T10:40:54.309865Z"
        },
        "id": "4zQaiFishyJ3",
        "outputId": "9f679402-a4c0-4ba6-8a77-2460140f2021",
        "trusted": true
      },
      "outputs": [
        {
          "name": "stdout",
          "output_type": "stream",
          "text": [
            "2500000 tweets loaded\n"
          ]
        }
      ],
      "source": [
        "tweets = []\n",
        "labels = []\n",
        "\n",
        "def load_tweets(filename, label):\n",
        "    with open(filename, 'r', encoding='utf-8') as f:\n",
        "        for line in f:\n",
        "            tweets.append(line.rstrip())\n",
        "            labels.append(label)\n",
        "    \n",
        "load_tweets(data_path + 'train_neg_full.txt', 0)\n",
        "load_tweets(data_path + 'train_pos_full.txt', 1)\n",
        "\n",
        "# Convert to NumPy array to facilitate indexing\n",
        "tweets = np.array(tweets)\n",
        "labels = np.array(labels)\n",
        "\n",
        "print(f'{len(tweets)} tweets loaded')"
      ]
    },
    {
      "cell_type": "code",
      "execution_count": 4,
      "metadata": {
        "execution": {
          "iopub.execute_input": "2022-07-30T10:41:05.302503Z",
          "iopub.status.busy": "2022-07-30T10:41:05.302035Z",
          "iopub.status.idle": "2022-07-30T10:41:07.204091Z",
          "shell.execute_reply": "2022-07-30T10:41:07.202878Z",
          "shell.execute_reply.started": "2022-07-30T10:41:05.302466Z"
        },
        "id": "_Rta4ZEnhyJ3",
        "trusted": true
      },
      "outputs": [],
      "source": [
        "train = pd.DataFrame({'tweet':tweets, 'label':labels})\n"
      ]
    },
    {
      "cell_type": "markdown",
      "metadata": {
        "id": "cQhxIoqIhyJ4"
      },
      "source": [
        "# 1. Is the dataset balanced?"
      ]
    },
    {
      "cell_type": "code",
      "execution_count": 5,
      "metadata": {
        "colab": {
          "base_uri": "https://localhost:8080/",
          "height": 307
        },
        "execution": {
          "iopub.execute_input": "2022-07-30T10:41:07.207424Z",
          "iopub.status.busy": "2022-07-30T10:41:07.206864Z",
          "iopub.status.idle": "2022-07-30T10:41:07.447433Z",
          "shell.execute_reply": "2022-07-30T10:41:07.446375Z",
          "shell.execute_reply.started": "2022-07-30T10:41:07.207387Z"
        },
        "id": "-1n9WeLDhyJ4",
        "outputId": "d04a2d6d-4f80-46a1-abff-acfc55beda99",
        "trusted": true
      },
      "outputs": [
        {
          "name": "stdout",
          "output_type": "stream",
          "text": [
            "Tweets with negative sentiment: 1250000\n",
            "Tweets with positive sentiment: 1250000\n"
          ]
        },
        {
          "data": {
            "image/png": "[encoded data removed]",
            "text/plain": [
              "<Figure size 432x288 with 1 Axes>"
            ]
          },
          "metadata": {
            "needs_background": "light"
          },
          "output_type": "display_data"
        }
      ],
      "source": [
        "train['label'].value_counts().plot.bar(color = 'green', figsize = (6, 4))\n",
        "print('Tweets with negative sentiment: '+str(train['label'].value_counts()[0]))\n",
        "print('Tweets with positive sentiment: '+str(train['label'].value_counts()[1]))"
      ]
    },
    {
      "cell_type": "markdown",
      "metadata": {
        "id": "dBI77Hm7hyJ4"
      },
      "source": [
        "Yes, the dataset is perfectly balanced"
      ]
    },
    {
      "cell_type": "markdown",
      "metadata": {
        "id": "t_CVGouKhyJ4"
      },
      "source": [
        "# 2. How long are the tweets?"
      ]
    },
    {
      "cell_type": "code",
      "execution_count": 6,
      "metadata": {
        "colab": {
          "base_uri": "https://localhost:8080/",
          "height": 374
        },
        "execution": {
          "iopub.execute_input": "2022-07-30T10:41:12.736724Z",
          "iopub.status.busy": "2022-07-30T10:41:12.735973Z",
          "iopub.status.idle": "2022-07-30T10:41:15.077035Z",
          "shell.execute_reply": "2022-07-30T10:41:15.075937Z",
          "shell.execute_reply.started": "2022-07-30T10:41:12.736684Z"
        },
        "id": "tQrkUM8LhyJ4",
        "outputId": "aefe3c3d-b577-4242-c6a5-181793c97194",
        "trusted": true
      },
      "outputs": [
        {
          "data": {
            "image/png": "[encoded data removed]",
            "text/plain": [
              "<Figure size 432x432 with 1 Axes>"
            ]
          },
          "metadata": {
            "needs_background": "light"
          },
          "output_type": "display_data"
        }
      ],
      "source": [
        "length_train = train['tweet'].str.len().plot.hist(color = 'orange', figsize = (6, 6))"
      ]
    },
    {
      "cell_type": "code",
      "execution_count": 7,
      "metadata": {
        "colab": {
          "base_uri": "https://localhost:8080/"
        },
        "execution": {
          "iopub.execute_input": "2022-07-30T10:41:21.030238Z",
          "iopub.status.busy": "2022-07-30T10:41:21.029634Z",
          "iopub.status.idle": "2022-07-30T10:41:22.566469Z",
          "shell.execute_reply": "2022-07-30T10:41:22.565200Z",
          "shell.execute_reply.started": "2022-07-30T10:41:21.030202Z"
        },
        "id": "WRf_ViQjhyJ5",
        "outputId": "dc319eb5-1498-4ee7-fed1-7f653f28642b",
        "trusted": true
      },
      "outputs": [
        {
          "data": {
            "text/plain": [
              "count    2.500000e+06\n",
              "mean     7.596408e+01\n",
              "std      3.542579e+01\n",
              "min      3.000000e+00\n",
              "25%      4.600000e+01\n",
              "50%      7.100000e+01\n",
              "75%      1.110000e+02\n",
              "max      4.010000e+02\n",
              "Name: tweet, dtype: float64"
            ]
          },
          "execution_count": 7,
          "metadata": {},
          "output_type": "execute_result"
        }
      ],
      "source": [
        "train['tweet'].str.len().describe()"
      ]
    },
    {
      "cell_type": "code",
      "execution_count": 8,
      "metadata": {
        "colab": {
          "base_uri": "https://localhost:8080/",
          "height": 295
        },
        "execution": {
          "iopub.execute_input": "2022-07-30T10:41:27.750388Z",
          "iopub.status.busy": "2022-07-30T10:41:27.749942Z",
          "iopub.status.idle": "2022-07-30T10:41:29.536458Z",
          "shell.execute_reply": "2022-07-30T10:41:29.535033Z",
          "shell.execute_reply.started": "2022-07-30T10:41:27.750353Z"
        },
        "id": "AvhvbFgRhyJ5",
        "outputId": "c359dc4a-c91b-456e-ecd3-8ad89a35bb26",
        "trusted": true
      },
      "outputs": [
        {
          "data": {
            "image/png": "[encoded data removed]",
            "text/plain": [
              "<Figure size 432x288 with 1 Axes>"
            ]
          },
          "metadata": {
            "needs_background": "light"
          },
          "output_type": "display_data"
        }
      ],
      "source": [
        "train['len'] = train['tweet'].str.len()\n",
        "train.groupby('len').mean()['label'].plot.hist(color = 'blue', figsize = (6, 4),)\n",
        "plt.title('variation of length')\n",
        "plt.xlabel('Length')\n",
        "plt.show()"
      ]
    },
    {
      "cell_type": "markdown",
      "metadata": {
        "id": "RdjN0-hJhyJ5"
      },
      "source": [
        "How does the length variates in positive and negative tweets?"
      ]
    },
    {
      "cell_type": "code",
      "execution_count": 9,
      "metadata": {
        "colab": {
          "base_uri": "https://localhost:8080/",
          "height": 173
        },
        "execution": {
          "iopub.execute_input": "2022-07-30T10:41:36.398530Z",
          "iopub.status.busy": "2022-07-30T10:41:36.398117Z",
          "iopub.status.idle": "2022-07-30T10:41:36.785500Z",
          "shell.execute_reply": "2022-07-30T10:41:36.784197Z",
          "shell.execute_reply.started": "2022-07-30T10:41:36.398470Z"
        },
        "id": "A-2H4_1YhyJ5",
        "outputId": "c1c75d9c-9a7b-4920-dd67-c61472e99d5b",
        "trusted": true
      },
      "outputs": [
        {
          "data": {
            "text/html": [
              "\n",
              "  <div id=\"df-1b35a004-e8ed-40b4-8f16-2ab0e47685f8\">\n",
              "    <div class=\"colab-df-container\">\n",
              "      <div>\n",
              "<style scoped>\n",
              "    .dataframe tbody tr th:only-of-type {\n",
              "        vertical-align: middle;\n",
              "    }\n",
              "\n",
              "    .dataframe tbody tr th {\n",
              "        vertical-align: top;\n",
              "    }\n",
              "\n",
              "    .dataframe thead tr th {\n",
              "        text-align: left;\n",
              "    }\n",
              "\n",
              "    .dataframe thead tr:last-of-type th {\n",
              "        text-align: right;\n",
              "    }\n",
              "</style>\n",
              "<table border=\"1\" class=\"dataframe\">\n",
              "  <thead>\n",
              "    <tr>\n",
              "      <th></th>\n",
              "      <th colspan=\"8\" halign=\"left\">len</th>\n",
              "    </tr>\n",
              "    <tr>\n",
              "      <th></th>\n",
              "      <th>count</th>\n",
              "      <th>mean</th>\n",
              "      <th>std</th>\n",
              "      <th>min</th>\n",
              "      <th>25%</th>\n",
              "      <th>50%</th>\n",
              "      <th>75%</th>\n",
              "      <th>max</th>\n",
              "    </tr>\n",
              "    <tr>\n",
              "      <th>label</th>\n",
              "      <th></th>\n",
              "      <th></th>\n",
              "      <th></th>\n",
              "      <th></th>\n",
              "      <th></th>\n",
              "      <th></th>\n",
              "      <th></th>\n",
              "      <th></th>\n",
              "    </tr>\n",
              "  </thead>\n",
              "  <tbody>\n",
              "    <tr>\n",
              "      <th>0</th>\n",
              "      <td>1250000.0</td>\n",
              "      <td>84.092398</td>\n",
              "      <td>36.381782</td>\n",
              "      <td>3.0</td>\n",
              "      <td>51.0</td>\n",
              "      <td>85.0</td>\n",
              "      <td>122.0</td>\n",
              "      <td>323.0</td>\n",
              "    </tr>\n",
              "    <tr>\n",
              "      <th>1</th>\n",
              "      <td>1250000.0</td>\n",
              "      <td>67.835752</td>\n",
              "      <td>32.468458</td>\n",
              "      <td>5.0</td>\n",
              "      <td>42.0</td>\n",
              "      <td>63.0</td>\n",
              "      <td>92.0</td>\n",
              "      <td>401.0</td>\n",
              "    </tr>\n",
              "  </tbody>\n",
              "</table>\n",
              "</div>\n",
              "      <button class=\"colab-df-convert\" onclick=\"convertToInteractive('df-1b35a004-e8ed-40b4-8f16-2ab0e47685f8')\"\n",
              "              title=\"Convert this dataframe to an interactive table.\"\n",
              "              style=\"display:none;\">\n",
              "        \n",
              "  <svg xmlns=\"http://www.w3.org/2000/svg\" height=\"24px\"viewBox=\"0 0 24 24\"\n",
              "       width=\"24px\">\n",
              "    <path d=\"M0 0h24v24H0V0z\" fill=\"none\"/>\n",
              "    <path d=\"M18.56 5.44l.94 2.06.94-2.06 2.06-.94-2.06-.94-.94-2.06-.94 2.06-2.06.94zm-11 1L8.5 8.5l.94-2.06 2.06-.94-2.06-.94L8.5 2.5l-.94 2.06-2.06.94zm10 10l.94 2.06.94-2.06 2.06-.94-2.06-.94-.94-2.06-.94 2.06-2.06.94z\"/><path d=\"M17.41 7.96l-1.37-1.37c-.4-.4-.92-.59-1.43-.59-.52 0-1.04.2-1.43.59L10.3 9.45l-7.72 7.72c-.78.78-.78 2.05 0 2.83L4 21.41c.39.39.9.59 1.41.59.51 0 1.02-.2 1.41-.59l7.78-7.78 2.81-2.81c.8-.78.8-2.07 0-2.86zM5.41 20L4 18.59l7.72-7.72 1.47 1.35L5.41 20z\"/>\n",
              "  </svg>\n",
              "      </button>\n",
              "      \n",
              "  <style>\n",
              "    .colab-df-container {\n",
              "      display:flex;\n",
              "      flex-wrap:wrap;\n",
              "      gap: 12px;\n",
              "    }\n",
              "\n",
              "    .colab-df-convert {\n",
              "      background-color: #E8F0FE;\n",
              "      border: none;\n",
              "      border-radius: 50%;\n",
              "      cursor: pointer;\n",
              "      display: none;\n",
              "      fill: #1967D2;\n",
              "      height: 32px;\n",
              "      padding: 0 0 0 0;\n",
              "      width: 32px;\n",
              "    }\n",
              "\n",
              "    .colab-df-convert:hover {\n",
              "      background-color: #E2EBFA;\n",
              "      box-shadow: 0px 1px 2px rgba(60, 64, 67, 0.3), 0px 1px 3px 1px rgba(60, 64, 67, 0.15);\n",
              "      fill: #174EA6;\n",
              "    }\n",
              "\n",
              "    [theme=dark] .colab-df-convert {\n",
              "      background-color: #3B4455;\n",
              "      fill: #D2E3FC;\n",
              "    }\n",
              "\n",
              "    [theme=dark] .colab-df-convert:hover {\n",
              "      background-color: #434B5C;\n",
              "      box-shadow: 0px 1px 3px 1px rgba(0, 0, 0, 0.15);\n",
              "      filter: drop-shadow(0px 1px 2px rgba(0, 0, 0, 0.3));\n",
              "      fill: #FFFFFF;\n",
              "    }\n",
              "  </style>\n",
              "\n",
              "      <script>\n",
              "        const buttonEl =\n",
              "          document.querySelector('#df-1b35a004-e8ed-40b4-8f16-2ab0e47685f8 button.colab-df-convert');\n",
              "        buttonEl.style.display =\n",
              "          google.colab.kernel.accessAllowed ? 'block' : 'none';\n",
              "\n",
              "        async function convertToInteractive(key) {\n",
              "          const element = document.querySelector('#df-1b35a004-e8ed-40b4-8f16-2ab0e47685f8');\n",
              "          const dataTable =\n",
              "            await google.colab.kernel.invokeFunction('convertToInteractive',\n",
              "                                                     [key], {});\n",
              "          if (!dataTable) return;\n",
              "\n",
              "          const docLinkHtml = 'Like what you see? Visit the ' +\n",
              "            '<a target=\"_blank\" href=https://colab.research.google.com/notebooks/data_table.ipynb>data table notebook</a>'\n",
              "            + ' to learn more about interactive tables.';\n",
              "          element.innerHTML = '';\n",
              "          dataTable['output_type'] = 'display_data';\n",
              "          await google.colab.output.renderOutput(dataTable, element);\n",
              "          const docLink = document.createElement('div');\n",
              "          docLink.innerHTML = docLinkHtml;\n",
              "          element.appendChild(docLink);\n",
              "        }\n",
              "      </script>\n",
              "    </div>\n",
              "  </div>\n",
              "  "
            ],
            "text/plain": [
              "             len                                                     \n",
              "           count       mean        std  min   25%   50%    75%    max\n",
              "label                                                                \n",
              "0      1250000.0  84.092398  36.381782  3.0  51.0  85.0  122.0  323.0\n",
              "1      1250000.0  67.835752  32.468458  5.0  42.0  63.0   92.0  401.0"
            ]
          },
          "execution_count": 9,
          "metadata": {},
          "output_type": "execute_result"
        }
      ],
      "source": [
        "train.groupby('label').describe()"
      ]
    },
    {
      "cell_type": "markdown",
      "metadata": {
        "id": "dZeYFEG1hyJ5"
      },
      "source": [
        "# 3. Are there any duplicates?"
      ]
    },
    {
      "cell_type": "code",
      "execution_count": 10,
      "metadata": {
        "colab": {
          "base_uri": "https://localhost:8080/",
          "height": 669
        },
        "execution": {
          "iopub.execute_input": "2022-07-30T10:41:50.901248Z",
          "iopub.status.busy": "2022-07-30T10:41:50.900813Z",
          "iopub.status.idle": "2022-07-30T10:42:02.985421Z",
          "shell.execute_reply": "2022-07-30T10:42:02.984021Z",
          "shell.execute_reply.started": "2022-07-30T10:41:50.901213Z"
        },
        "id": "ltz8PYoMhyJ6",
        "outputId": "c0e8a290-ab59-4c01-d2fc-2b86eb8fd4c7",
        "trusted": true
      },
      "outputs": [
        {
          "data": {
            "text/html": [
              "\n",
              "  <div id=\"df-d30b9e0d-5c20-4c98-bf99-2e30e007c485\">\n",
              "    <div class=\"colab-df-container\">\n",
              "      <div>\n",
              "<style scoped>\n",
              "    .dataframe tbody tr th:only-of-type {\n",
              "        vertical-align: middle;\n",
              "    }\n",
              "\n",
              "    .dataframe tbody tr th {\n",
              "        vertical-align: top;\n",
              "    }\n",
              "\n",
              "    .dataframe thead th {\n",
              "        text-align: right;\n",
              "    }\n",
              "</style>\n",
              "<table border=\"1\" class=\"dataframe\">\n",
              "  <thead>\n",
              "    <tr style=\"text-align: right;\">\n",
              "      <th></th>\n",
              "      <th>tweet</th>\n",
              "      <th>label</th>\n",
              "      <th>counts</th>\n",
              "    </tr>\n",
              "  </thead>\n",
              "  <tbody>\n",
              "    <tr>\n",
              "      <th>866045</th>\n",
              "      <td>&lt;user&gt; thanks</td>\n",
              "      <td>1</td>\n",
              "      <td>3094</td>\n",
              "    </tr>\n",
              "    <tr>\n",
              "      <th>321342</th>\n",
              "      <td>&lt;user&gt; can't wait to see you</td>\n",
              "      <td>0</td>\n",
              "      <td>2007</td>\n",
              "    </tr>\n",
              "    <tr>\n",
              "      <th>2048875</th>\n",
              "      <td>thank you very much everyone night night to alll</td>\n",
              "      <td>1</td>\n",
              "      <td>1641</td>\n",
              "    </tr>\n",
              "    <tr>\n",
              "      <th>1493097</th>\n",
              "      <td>i love our fans ! there all so beautiful ! x &lt;...</td>\n",
              "      <td>1</td>\n",
              "      <td>1536</td>\n",
              "    </tr>\n",
              "    <tr>\n",
              "      <th>1326261</th>\n",
              "      <td>girlfriend : babe , whats your favorite positi...</td>\n",
              "      <td>1</td>\n",
              "      <td>621</td>\n",
              "    </tr>\n",
              "    <tr>\n",
              "      <th>1648601</th>\n",
              "      <td>just reading lots of peoples bios you guys are...</td>\n",
              "      <td>1</td>\n",
              "      <td>582</td>\n",
              "    </tr>\n",
              "    <tr>\n",
              "      <th>469175</th>\n",
              "      <td>&lt;user&gt; how are you ? please follow sexy &lt;user&gt; x</td>\n",
              "      <td>1</td>\n",
              "      <td>571</td>\n",
              "    </tr>\n",
              "    <tr>\n",
              "      <th>873620</th>\n",
              "      <td>&lt;user&gt; thanks for the follow</td>\n",
              "      <td>1</td>\n",
              "      <td>551</td>\n",
              "    </tr>\n",
              "    <tr>\n",
              "      <th>364263</th>\n",
              "      <td>&lt;user&gt; follow back please ?</td>\n",
              "      <td>1</td>\n",
              "      <td>536</td>\n",
              "    </tr>\n",
              "    <tr>\n",
              "      <th>369179</th>\n",
              "      <td>&lt;user&gt; for saying that ' i smell ' you have to...</td>\n",
              "      <td>1</td>\n",
              "      <td>533</td>\n",
              "    </tr>\n",
              "    <tr>\n",
              "      <th>1749545</th>\n",
              "      <td>multiple choice ( test a , b , c , or d ? well...</td>\n",
              "      <td>0</td>\n",
              "      <td>503</td>\n",
              "    </tr>\n",
              "    <tr>\n",
              "      <th>866047</th>\n",
              "      <td>&lt;user&gt; thanks !</td>\n",
              "      <td>1</td>\n",
              "      <td>495</td>\n",
              "    </tr>\n",
              "    <tr>\n",
              "      <th>1559680</th>\n",
              "      <td>i'm a lazy texter . unless you're cute ... the...</td>\n",
              "      <td>1</td>\n",
              "      <td>466</td>\n",
              "    </tr>\n",
              "    <tr>\n",
              "      <th>1730166</th>\n",
              "      <td>melbourne amazing crowd tonight thankyou to ev...</td>\n",
              "      <td>1</td>\n",
              "      <td>463</td>\n",
              "    </tr>\n",
              "    <tr>\n",
              "      <th>1538155</th>\n",
              "      <td>i want one ! ! rt &lt;user&gt; louis made a new frie...</td>\n",
              "      <td>1</td>\n",
              "      <td>404</td>\n",
              "    </tr>\n",
              "    <tr>\n",
              "      <th>364187</th>\n",
              "      <td>&lt;user&gt; follow back please</td>\n",
              "      <td>1</td>\n",
              "      <td>386</td>\n",
              "    </tr>\n",
              "    <tr>\n",
              "      <th>318826</th>\n",
              "      <td>&lt;user&gt; can you please follow a new upcoming si...</td>\n",
              "      <td>1</td>\n",
              "      <td>379</td>\n",
              "    </tr>\n",
              "    <tr>\n",
              "      <th>1244779</th>\n",
              "      <td>disney should make a hairless princess , so th...</td>\n",
              "      <td>1</td>\n",
              "      <td>370</td>\n",
              "    </tr>\n",
              "    <tr>\n",
              "      <th>1763808</th>\n",
              "      <td>my girlfriend just texted me saying \" i want y...</td>\n",
              "      <td>1</td>\n",
              "      <td>344</td>\n",
              "    </tr>\n",
              "    <tr>\n",
              "      <th>1482698</th>\n",
              "      <td>i just wrote this ( tell me what you think &lt;url&gt;</td>\n",
              "      <td>0</td>\n",
              "      <td>335</td>\n",
              "    </tr>\n",
              "  </tbody>\n",
              "</table>\n",
              "</div>\n",
              "      <button class=\"colab-df-convert\" onclick=\"convertToInteractive('df-d30b9e0d-5c20-4c98-bf99-2e30e007c485')\"\n",
              "              title=\"Convert this dataframe to an interactive table.\"\n",
              "              style=\"display:none;\">\n",
              "        \n",
              "  <svg xmlns=\"http://www.w3.org/2000/svg\" height=\"24px\"viewBox=\"0 0 24 24\"\n",
              "       width=\"24px\">\n",
              "    <path d=\"M0 0h24v24H0V0z\" fill=\"none\"/>\n",
              "    <path d=\"M18.56 5.44l.94 2.06.94-2.06 2.06-.94-2.06-.94-.94-2.06-.94 2.06-2.06.94zm-11 1L8.5 8.5l.94-2.06 2.06-.94-2.06-.94L8.5 2.5l-.94 2.06-2.06.94zm10 10l.94 2.06.94-2.06 2.06-.94-2.06-.94-.94-2.06-.94 2.06-2.06.94z\"/><path d=\"M17.41 7.96l-1.37-1.37c-.4-.4-.92-.59-1.43-.59-.52 0-1.04.2-1.43.59L10.3 9.45l-7.72 7.72c-.78.78-.78 2.05 0 2.83L4 21.41c.39.39.9.59 1.41.59.51 0 1.02-.2 1.41-.59l7.78-7.78 2.81-2.81c.8-.78.8-2.07 0-2.86zM5.41 20L4 18.59l7.72-7.72 1.47 1.35L5.41 20z\"/>\n",
              "  </svg>\n",
              "      </button>\n",
              "      \n",
              "  <style>\n",
              "    .colab-df-container {\n",
              "      display:flex;\n",
              "      flex-wrap:wrap;\n",
              "      gap: 12px;\n",
              "    }\n",
              "\n",
              "    .colab-df-convert {\n",
              "      background-color: #E8F0FE;\n",
              "      border: none;\n",
              "      border-radius: 50%;\n",
              "      cursor: pointer;\n",
              "      display: none;\n",
              "      fill: #1967D2;\n",
              "      height: 32px;\n",
              "      padding: 0 0 0 0;\n",
              "      width: 32px;\n",
              "    }\n",
              "\n",
              "    .colab-df-convert:hover {\n",
              "      background-color: #E2EBFA;\n",
              "      box-shadow: 0px 1px 2px rgba(60, 64, 67, 0.3), 0px 1px 3px 1px rgba(60, 64, 67, 0.15);\n",
              "      fill: #174EA6;\n",
              "    }\n",
              "\n",
              "    [theme=dark] .colab-df-convert {\n",
              "      background-color: #3B4455;\n",
              "      fill: #D2E3FC;\n",
              "    }\n",
              "\n",
              "    [theme=dark] .colab-df-convert:hover {\n",
              "      background-color: #434B5C;\n",
              "      box-shadow: 0px 1px 3px 1px rgba(0, 0, 0, 0.15);\n",
              "      filter: drop-shadow(0px 1px 2px rgba(0, 0, 0, 0.3));\n",
              "      fill: #FFFFFF;\n",
              "    }\n",
              "  </style>\n",
              "\n",
              "      <script>\n",
              "        const buttonEl =\n",
              "          document.querySelector('#df-d30b9e0d-5c20-4c98-bf99-2e30e007c485 button.colab-df-convert');\n",
              "        buttonEl.style.display =\n",
              "          google.colab.kernel.accessAllowed ? 'block' : 'none';\n",
              "\n",
              "        async function convertToInteractive(key) {\n",
              "          const element = document.querySelector('#df-d30b9e0d-5c20-4c98-bf99-2e30e007c485');\n",
              "          const dataTable =\n",
              "            await google.colab.kernel.invokeFunction('convertToInteractive',\n",
              "                                                     [key], {});\n",
              "          if (!dataTable) return;\n",
              "\n",
              "          const docLinkHtml = 'Like what you see? Visit the ' +\n",
              "            '<a target=\"_blank\" href=https://colab.research.google.com/notebooks/data_table.ipynb>data table notebook</a>'\n",
              "            + ' to learn more about interactive tables.';\n",
              "          element.innerHTML = '';\n",
              "          dataTable['output_type'] = 'display_data';\n",
              "          await google.colab.output.renderOutput(dataTable, element);\n",
              "          const docLink = document.createElement('div');\n",
              "          docLink.innerHTML = docLinkHtml;\n",
              "          element.appendChild(docLink);\n",
              "        }\n",
              "      </script>\n",
              "    </div>\n",
              "  </div>\n",
              "  "
            ],
            "text/plain": [
              "                                                     tweet  label  counts\n",
              "866045                                       <user> thanks      1    3094\n",
              "321342                        <user> can't wait to see you      0    2007\n",
              "2048875   thank you very much everyone night night to alll      1    1641\n",
              "1493097  i love our fans ! there all so beautiful ! x <...      1    1536\n",
              "1326261  girlfriend : babe , whats your favorite positi...      1     621\n",
              "1648601  just reading lots of peoples bios you guys are...      1     582\n",
              "469175    <user> how are you ? please follow sexy <user> x      1     571\n",
              "873620                        <user> thanks for the follow      1     551\n",
              "364263                         <user> follow back please ?      1     536\n",
              "369179   <user> for saying that ' i smell ' you have to...      1     533\n",
              "1749545  multiple choice ( test a , b , c , or d ? well...      0     503\n",
              "866047                                     <user> thanks !      1     495\n",
              "1559680  i'm a lazy texter . unless you're cute ... the...      1     466\n",
              "1730166  melbourne amazing crowd tonight thankyou to ev...      1     463\n",
              "1538155  i want one ! ! rt <user> louis made a new frie...      1     404\n",
              "364187                           <user> follow back please      1     386\n",
              "318826   <user> can you please follow a new upcoming si...      1     379\n",
              "1244779  disney should make a hairless princess , so th...      1     370\n",
              "1763808  my girlfriend just texted me saying \" i want y...      1     344\n",
              "1482698   i just wrote this ( tell me what you think <url>      0     335"
            ]
          },
          "execution_count": 10,
          "metadata": {},
          "output_type": "execute_result"
        }
      ],
      "source": [
        "duplicated = train.groupby(['tweet', 'label']).size().reset_index(name='counts')\n",
        "duplicated.sort_values('counts', ascending = False).head(20)"
      ]
    },
    {
      "cell_type": "code",
      "execution_count": 11,
      "metadata": {
        "colab": {
          "base_uri": "https://localhost:8080/"
        },
        "execution": {
          "iopub.execute_input": "2022-07-30T10:43:53.235982Z",
          "iopub.status.busy": "2022-07-30T10:43:53.234556Z",
          "iopub.status.idle": "2022-07-30T10:43:53.244191Z",
          "shell.execute_reply": "2022-07-30T10:43:53.242961Z",
          "shell.execute_reply.started": "2022-07-30T10:43:53.235922Z"
        },
        "id": "iEephJGshyJ6",
        "outputId": "b5a52967-2eca-4ba4-ca3d-bdf6474bdab7",
        "trusted": true
      },
      "outputs": [
        {
          "data": {
            "text/plain": [
              "2270482"
            ]
          },
          "execution_count": 11,
          "metadata": {},
          "output_type": "execute_result"
        }
      ],
      "source": [
        "len(duplicated)"
      ]
    },
    {
      "cell_type": "markdown",
      "metadata": {
        "id": "wjX_G_aChyJ6"
      },
      "source": [
        "There are 2.270.482 unique pairs <tweet,label>, thus there are 2.500.000 - 2.270.482 = 229.518 duplicates"
      ]
    },
    {
      "cell_type": "markdown",
      "metadata": {
        "id": "3Tx3sRZFhyJ6"
      },
      "source": [
        "# 4. Which are the most common words?"
      ]
    },
    {
      "cell_type": "code",
      "execution_count": 12,
      "metadata": {
        "colab": {
          "base_uri": "https://localhost:8080/",
          "height": 474
        },
        "execution": {
          "iopub.execute_input": "2022-07-30T08:10:47.623395Z",
          "iopub.status.busy": "2022-07-30T08:10:47.622637Z",
          "iopub.status.idle": "2022-07-30T08:11:38.570223Z",
          "shell.execute_reply": "2022-07-30T08:11:38.568850Z",
          "shell.execute_reply.started": "2022-07-30T08:10:47.623344Z"
        },
        "id": "chEspwoIhyJ6",
        "outputId": "774271ff-123b-47c6-bde4-d20b9d9b504f",
        "trusted": true
      },
      "outputs": [
        {
          "data": {
            "text/plain": [
              "Text(0.5, 1.0, 'Most Frequently Occuring Words - Top 30')"
            ]
          },
          "execution_count": 12,
          "metadata": {},
          "output_type": "execute_result"
        },
        {
          "data": {
            "image/png": "[encoded data removed]",
            "text/plain": [
              "<Figure size 1080x504 with 1 Axes>"
            ]
          },
          "metadata": {
            "needs_background": "light"
          },
          "output_type": "display_data"
        }
      ],
      "source": [
        "cv = CountVectorizer(stop_words = 'english')\n",
        "words = cv.fit_transform(train.tweet)\n",
        "\n",
        "sum_words = words.sum(axis=0)\n",
        "\n",
        "words_freq = [(word, sum_words[0, i]) for word, i in cv.vocabulary_.items()]\n",
        "words_freq = sorted(words_freq, key = lambda x: x[1], reverse = True)\n",
        "\n",
        "frequency = pd.DataFrame(words_freq, columns=['word', 'freq'])\n",
        "\n",
        "frequency.head(30).plot(x='word', y='freq', kind='barh', figsize=(15, 7), color = 'blue')\n",
        "plt.title(\"Most Frequently Occuring Words - Top 30\")"
      ]
    },
    {
      "cell_type": "code",
      "execution_count": 13,
      "metadata": {
        "colab": {
          "base_uri": "https://localhost:8080/",
          "height": 461
        },
        "execution": {
          "iopub.execute_input": "2022-07-30T08:11:38.572124Z",
          "iopub.status.busy": "2022-07-30T08:11:38.571542Z",
          "iopub.status.idle": "2022-07-30T08:12:06.905011Z",
          "shell.execute_reply": "2022-07-30T08:12:06.903804Z",
          "shell.execute_reply.started": "2022-07-30T08:11:38.572092Z"
        },
        "id": "9JjZ4qighyJ7",
        "outputId": "36ca225d-a8e6-422b-c774-b934bede1a97",
        "trusted": true
      },
      "outputs": [
        {
          "data": {
            "text/plain": [
              "Text(0.5, 1.0, 'Most Frequently Neg Occuring Words - Top 30')"
            ]
          },
          "execution_count": 13,
          "metadata": {},
          "output_type": "execute_result"
        },
        {
          "data": {
            "image/png": "[encoded data removed]",
            "text/plain": [
              "<Figure size 1080x504 with 1 Axes>"
            ]
          },
          "metadata": {
            "needs_background": "light"
          },
          "output_type": "display_data"
        }
      ],
      "source": [
        "words = cv.fit_transform(train[train['label']==0].tweet)\n",
        "\n",
        "sum_words = words.sum(axis=0)\n",
        "\n",
        "words_freq = [(word, sum_words[0, i]) for word, i in cv.vocabulary_.items()]\n",
        "words_freq = sorted(words_freq, key = lambda x: x[1], reverse = True)\n",
        "\n",
        "frequency = pd.DataFrame(words_freq, columns=['word', 'freq'])\n",
        "\n",
        "frequency.head(30).plot(x='word', y='freq', kind='barh', figsize=(15, 7), color = 'blue')\n",
        "plt.title(\"Most Frequently Neg Occuring Words - Top 30\")"
      ]
    },
    {
      "cell_type": "code",
      "execution_count": 14,
      "metadata": {
        "colab": {
          "base_uri": "https://localhost:8080/",
          "height": 474
        },
        "execution": {
          "iopub.execute_input": "2022-07-30T08:12:06.907024Z",
          "iopub.status.busy": "2022-07-30T08:12:06.906612Z",
          "iopub.status.idle": "2022-07-30T08:12:30.452095Z",
          "shell.execute_reply": "2022-07-30T08:12:30.451022Z",
          "shell.execute_reply.started": "2022-07-30T08:12:06.906982Z"
        },
        "id": "exZFkryehyJ7",
        "outputId": "6d0c71de-9589-47a9-f59d-b412386edfd6",
        "trusted": true
      },
      "outputs": [
        {
          "data": {
            "text/plain": [
              "Text(0.5, 1.0, 'Most Frequently Pos Occuring Words - Top 30')"
            ]
          },
          "execution_count": 14,
          "metadata": {},
          "output_type": "execute_result"
        },
        {
          "data": {
            "image/png": "[encoded data removed]",
            "text/plain": [
              "<Figure size 1080x504 with 1 Axes>"
            ]
          },
          "metadata": {
            "needs_background": "light"
          },
          "output_type": "display_data"
        }
      ],
      "source": [
        "words = cv.fit_transform(train[train['label']==1].tweet)\n",
        "\n",
        "sum_words = words.sum(axis=0)\n",
        "\n",
        "words_freq = [(word, sum_words[0, i]) for word, i in cv.vocabulary_.items()]\n",
        "words_freq = sorted(words_freq, key = lambda x: x[1], reverse = True)\n",
        "\n",
        "frequency = pd.DataFrame(words_freq, columns=['word', 'freq'])\n",
        "\n",
        "frequency.head(30).plot(x='word', y='freq', kind='barh', figsize=(15, 7), color = 'blue')\n",
        "plt.title(\"Most Frequently Pos Occuring Words - Top 30\")"
      ]
    },
    {
      "cell_type": "markdown",
      "metadata": {
        "id": "LYK24zIUhyJ7"
      },
      "source": [
        "# 5. How many tweets contain hastags?\n",
        "We want to analyze now the percentage of hashtags among the tweets, to understand whether it could be significant to process them"
      ]
    },
    {
      "cell_type": "code",
      "execution_count": 15,
      "metadata": {
        "colab": {
          "base_uri": "https://localhost:8080/"
        },
        "execution": {
          "iopub.execute_input": "2022-07-30T08:12:30.453612Z",
          "iopub.status.busy": "2022-07-30T08:12:30.453303Z",
          "iopub.status.idle": "2022-07-30T08:12:33.749625Z",
          "shell.execute_reply": "2022-07-30T08:12:33.748456Z",
          "shell.execute_reply.started": "2022-07-30T08:12:30.453575Z"
        },
        "id": "JCYLalZ5hyJ7",
        "outputId": "1be87025-c81a-49fc-91c2-9c9654e98c32",
        "trusted": true
      },
      "outputs": [
        {
          "name": "stdout",
          "output_type": "stream",
          "text": [
            "Percentage of tweets containing hashtags: 11.43%\n",
            "Mean number of hashtags per tweet: 0.14\n"
          ]
        }
      ],
      "source": [
        "sentences_with_hashtag = 0\n",
        "num_of_hashtags = 0\n",
        "for tweet in train['tweet']:\n",
        "    hashtags = re.findall(r\"#(\\w+)\", tweet)\n",
        "    if(hashtags):\n",
        "        sentences_with_hashtag = sentences_with_hashtag + 1\n",
        "        num_of_hashtags = num_of_hashtags + len(hashtags)\n",
        "print('Percentage of tweets containing hashtags: '+ \"{:.2f}\".format(sentences_with_hashtag/train.shape[0]*100)+ '%')\n",
        "print('Mean number of hashtags per tweet: '+ \"{:.2f}\".format(num_of_hashtags/train.shape[0]))"
      ]
    },
    {
      "cell_type": "markdown",
      "metadata": {
        "id": "Rzm5OiEPhyJ7"
      },
      "source": [
        "# 6. How many tweets contain retweet?"
      ]
    },
    {
      "cell_type": "code",
      "execution_count": 16,
      "metadata": {
        "colab": {
          "base_uri": "https://localhost:8080/"
        },
        "execution": {
          "iopub.execute_input": "2022-07-30T08:12:33.751463Z",
          "iopub.status.busy": "2022-07-30T08:12:33.751017Z",
          "iopub.status.idle": "2022-07-30T08:12:34.448464Z",
          "shell.execute_reply": "2022-07-30T08:12:34.447285Z",
          "shell.execute_reply.started": "2022-07-30T08:12:33.751427Z"
        },
        "id": "-59ELK5ghyJ8",
        "outputId": "9d37d42e-e431-4590-851b-70fef627eb91",
        "trusted": true
      },
      "outputs": [
        {
          "name": "stdout",
          "output_type": "stream",
          "text": [
            "Percentage of tweets containing retweets: 0.21%\n",
            "Number of tweets containing retweets: 5265\n"
          ]
        }
      ],
      "source": [
        "sentences_with_retweet = 0\n",
        "for tweet in train['tweet']:\n",
        "    if(\"rt \\\"\" in tweet):\n",
        "        sentences_with_retweet = sentences_with_retweet + 1\n",
        "print('Percentage of tweets containing retweets: '+ \"{:.2f}\".format(sentences_with_retweet/train.shape[0]*100)+ '%')\n",
        "print('Number of tweets containing retweets: '+ str(sentences_with_retweet))"
      ]
    },
    {
      "cell_type": "markdown",
      "metadata": {
        "id": "XXcm9C4GhyJ8"
      },
      "source": [
        "# 7. How many tweets contain near duplicates?\n",
        "As suggested by [Go & al.](https://www-cs.stanford.edu/people/alecmgo/papers/TwitterDistantSupervision09.pdf) it is important to remove duplicates in order to avoid putting extra weight on any particular tweet. "
      ]
    },
    {
      "cell_type": "code",
      "execution_count": 17,
      "metadata": {
        "colab": {
          "base_uri": "https://localhost:8080/"
        },
        "execution": {
          "iopub.execute_input": "2022-07-30T08:12:34.450872Z",
          "iopub.status.busy": "2022-07-30T08:12:34.450401Z",
          "iopub.status.idle": "2022-07-30T08:12:36.679932Z",
          "shell.execute_reply": "2022-07-30T08:12:36.678986Z",
          "shell.execute_reply.started": "2022-07-30T08:12:34.450829Z"
        },
        "id": "_rdthQY-hyJ8",
        "outputId": "77808579-a372-4aa1-9593-1a5126cd139f",
        "trusted": true
      },
      "outputs": [
        {
          "data": {
            "text/plain": [
              "2270482"
            ]
          },
          "execution_count": 17,
          "metadata": {},
          "output_type": "execute_result"
        }
      ],
      "source": [
        "len(train.drop_duplicates())"
      ]
    },
    {
      "cell_type": "code",
      "execution_count": 18,
      "metadata": {
        "execution": {
          "iopub.execute_input": "2022-07-30T08:12:36.681914Z",
          "iopub.status.busy": "2022-07-30T08:12:36.681540Z",
          "iopub.status.idle": "2022-07-30T08:12:37.381104Z",
          "shell.execute_reply": "2022-07-30T08:12:37.380016Z",
          "shell.execute_reply.started": "2022-07-30T08:12:36.681878Z"
        },
        "id": "OLWzUTIwhyJ8",
        "trusted": true
      },
      "outputs": [],
      "source": [
        "no_near_dup_train = train.loc[train['tweet'].shift(-1) != train['tweet']]"
      ]
    },
    {
      "cell_type": "code",
      "execution_count": 19,
      "metadata": {
        "colab": {
          "base_uri": "https://localhost:8080/"
        },
        "execution": {
          "iopub.execute_input": "2022-07-30T08:12:37.383425Z",
          "iopub.status.busy": "2022-07-30T08:12:37.382730Z",
          "iopub.status.idle": "2022-07-30T08:12:37.390041Z",
          "shell.execute_reply": "2022-07-30T08:12:37.388853Z",
          "shell.execute_reply.started": "2022-07-30T08:12:37.383393Z"
        },
        "id": "SfjJ3A0chyJ8",
        "outputId": "dc3e1d22-40b3-432c-93a5-bb3eb0292fcb",
        "trusted": true
      },
      "outputs": [
        {
          "data": {
            "text/plain": [
              "2270482"
            ]
          },
          "execution_count": 19,
          "metadata": {},
          "output_type": "execute_result"
        }
      ],
      "source": [
        "len(no_near_dup_train)"
      ]
    },
    {
      "cell_type": "markdown",
      "metadata": {
        "id": "pk3lnfI8hyJ9"
      },
      "source": [
        "We notice that all the duplicates are in fact near to each other. However, this is not enough to yield a conclusion, since no information is provided about the ordering of the data"
      ]
    },
    {
      "cell_type": "code",
      "execution_count": 20,
      "metadata": {
        "execution": {
          "iopub.execute_input": "2022-07-30T08:12:37.393018Z",
          "iopub.status.busy": "2022-07-30T08:12:37.391771Z",
          "iopub.status.idle": "2022-07-30T08:12:47.898688Z",
          "shell.execute_reply": "2022-07-30T08:12:47.897636Z",
          "shell.execute_reply.started": "2022-07-30T08:12:37.392972Z"
        },
        "id": "aadGOwyQhyJ9",
        "trusted": true
      },
      "outputs": [],
      "source": [
        "group_by_tweet = train.groupby(['tweet']).size().reset_index(name='counts')"
      ]
    },
    {
      "cell_type": "code",
      "execution_count": 21,
      "metadata": {
        "colab": {
          "base_uri": "https://localhost:8080/",
          "height": 359
        },
        "execution": {
          "iopub.execute_input": "2022-07-30T08:12:47.900784Z",
          "iopub.status.busy": "2022-07-30T08:12:47.900024Z",
          "iopub.status.idle": "2022-07-30T08:12:56.366731Z",
          "shell.execute_reply": "2022-07-30T08:12:56.365627Z",
          "shell.execute_reply.started": "2022-07-30T08:12:47.900752Z"
        },
        "id": "5uWwxYNThyJ9",
        "outputId": "78d71b04-2bb9-4f97-e659-30b6234573dd",
        "trusted": true
      },
      "outputs": [
        {
          "data": {
            "text/html": [
              "\n",
              "  <div id=\"df-ce499bca-b647-42ec-9ca5-58671e8dc237\">\n",
              "    <div class=\"colab-df-container\">\n",
              "      <div>\n",
              "<style scoped>\n",
              "    .dataframe tbody tr th:only-of-type {\n",
              "        vertical-align: middle;\n",
              "    }\n",
              "\n",
              "    .dataframe tbody tr th {\n",
              "        vertical-align: top;\n",
              "    }\n",
              "\n",
              "    .dataframe thead th {\n",
              "        text-align: right;\n",
              "    }\n",
              "</style>\n",
              "<table border=\"1\" class=\"dataframe\">\n",
              "  <thead>\n",
              "    <tr style=\"text-align: right;\">\n",
              "      <th></th>\n",
              "      <th>tweet</th>\n",
              "      <th>label</th>\n",
              "      <th>counts</th>\n",
              "    </tr>\n",
              "  </thead>\n",
              "  <tbody>\n",
              "    <tr>\n",
              "      <th>866045</th>\n",
              "      <td>&lt;user&gt; thanks</td>\n",
              "      <td>1</td>\n",
              "      <td>3094</td>\n",
              "    </tr>\n",
              "    <tr>\n",
              "      <th>321342</th>\n",
              "      <td>&lt;user&gt; can't wait to see you</td>\n",
              "      <td>0</td>\n",
              "      <td>2007</td>\n",
              "    </tr>\n",
              "    <tr>\n",
              "      <th>2048875</th>\n",
              "      <td>thank you very much everyone night night to alll</td>\n",
              "      <td>1</td>\n",
              "      <td>1641</td>\n",
              "    </tr>\n",
              "    <tr>\n",
              "      <th>1493097</th>\n",
              "      <td>i love our fans ! there all so beautiful ! x &lt;...</td>\n",
              "      <td>1</td>\n",
              "      <td>1536</td>\n",
              "    </tr>\n",
              "    <tr>\n",
              "      <th>1326261</th>\n",
              "      <td>girlfriend : babe , whats your favorite positi...</td>\n",
              "      <td>1</td>\n",
              "      <td>621</td>\n",
              "    </tr>\n",
              "    <tr>\n",
              "      <th>1648601</th>\n",
              "      <td>just reading lots of peoples bios you guys are...</td>\n",
              "      <td>1</td>\n",
              "      <td>582</td>\n",
              "    </tr>\n",
              "    <tr>\n",
              "      <th>469175</th>\n",
              "      <td>&lt;user&gt; how are you ? please follow sexy &lt;user&gt; x</td>\n",
              "      <td>1</td>\n",
              "      <td>571</td>\n",
              "    </tr>\n",
              "    <tr>\n",
              "      <th>873620</th>\n",
              "      <td>&lt;user&gt; thanks for the follow</td>\n",
              "      <td>1</td>\n",
              "      <td>551</td>\n",
              "    </tr>\n",
              "    <tr>\n",
              "      <th>364263</th>\n",
              "      <td>&lt;user&gt; follow back please ?</td>\n",
              "      <td>1</td>\n",
              "      <td>536</td>\n",
              "    </tr>\n",
              "    <tr>\n",
              "      <th>369179</th>\n",
              "      <td>&lt;user&gt; for saying that ' i smell ' you have to...</td>\n",
              "      <td>1</td>\n",
              "      <td>533</td>\n",
              "    </tr>\n",
              "  </tbody>\n",
              "</table>\n",
              "</div>\n",
              "      <button class=\"colab-df-convert\" onclick=\"convertToInteractive('df-ce499bca-b647-42ec-9ca5-58671e8dc237')\"\n",
              "              title=\"Convert this dataframe to an interactive table.\"\n",
              "              style=\"display:none;\">\n",
              "        \n",
              "  <svg xmlns=\"http://www.w3.org/2000/svg\" height=\"24px\"viewBox=\"0 0 24 24\"\n",
              "       width=\"24px\">\n",
              "    <path d=\"M0 0h24v24H0V0z\" fill=\"none\"/>\n",
              "    <path d=\"M18.56 5.44l.94 2.06.94-2.06 2.06-.94-2.06-.94-.94-2.06-.94 2.06-2.06.94zm-11 1L8.5 8.5l.94-2.06 2.06-.94-2.06-.94L8.5 2.5l-.94 2.06-2.06.94zm10 10l.94 2.06.94-2.06 2.06-.94-2.06-.94-.94-2.06-.94 2.06-2.06.94z\"/><path d=\"M17.41 7.96l-1.37-1.37c-.4-.4-.92-.59-1.43-.59-.52 0-1.04.2-1.43.59L10.3 9.45l-7.72 7.72c-.78.78-.78 2.05 0 2.83L4 21.41c.39.39.9.59 1.41.59.51 0 1.02-.2 1.41-.59l7.78-7.78 2.81-2.81c.8-.78.8-2.07 0-2.86zM5.41 20L4 18.59l7.72-7.72 1.47 1.35L5.41 20z\"/>\n",
              "  </svg>\n",
              "      </button>\n",
              "      \n",
              "  <style>\n",
              "    .colab-df-container {\n",
              "      display:flex;\n",
              "      flex-wrap:wrap;\n",
              "      gap: 12px;\n",
              "    }\n",
              "\n",
              "    .colab-df-convert {\n",
              "      background-color: #E8F0FE;\n",
              "      border: none;\n",
              "      border-radius: 50%;\n",
              "      cursor: pointer;\n",
              "      display: none;\n",
              "      fill: #1967D2;\n",
              "      height: 32px;\n",
              "      padding: 0 0 0 0;\n",
              "      width: 32px;\n",
              "    }\n",
              "\n",
              "    .colab-df-convert:hover {\n",
              "      background-color: #E2EBFA;\n",
              "      box-shadow: 0px 1px 2px rgba(60, 64, 67, 0.3), 0px 1px 3px 1px rgba(60, 64, 67, 0.15);\n",
              "      fill: #174EA6;\n",
              "    }\n",
              "\n",
              "    [theme=dark] .colab-df-convert {\n",
              "      background-color: #3B4455;\n",
              "      fill: #D2E3FC;\n",
              "    }\n",
              "\n",
              "    [theme=dark] .colab-df-convert:hover {\n",
              "      background-color: #434B5C;\n",
              "      box-shadow: 0px 1px 3px 1px rgba(0, 0, 0, 0.15);\n",
              "      filter: drop-shadow(0px 1px 2px rgba(0, 0, 0, 0.3));\n",
              "      fill: #FFFFFF;\n",
              "    }\n",
              "  </style>\n",
              "\n",
              "      <script>\n",
              "        const buttonEl =\n",
              "          document.querySelector('#df-ce499bca-b647-42ec-9ca5-58671e8dc237 button.colab-df-convert');\n",
              "        buttonEl.style.display =\n",
              "          google.colab.kernel.accessAllowed ? 'block' : 'none';\n",
              "\n",
              "        async function convertToInteractive(key) {\n",
              "          const element = document.querySelector('#df-ce499bca-b647-42ec-9ca5-58671e8dc237');\n",
              "          const dataTable =\n",
              "            await google.colab.kernel.invokeFunction('convertToInteractive',\n",
              "                                                     [key], {});\n",
              "          if (!dataTable) return;\n",
              "\n",
              "          const docLinkHtml = 'Like what you see? Visit the ' +\n",
              "            '<a target=\"_blank\" href=https://colab.research.google.com/notebooks/data_table.ipynb>data table notebook</a>'\n",
              "            + ' to learn more about interactive tables.';\n",
              "          element.innerHTML = '';\n",
              "          dataTable['output_type'] = 'display_data';\n",
              "          await google.colab.output.renderOutput(dataTable, element);\n",
              "          const docLink = document.createElement('div');\n",
              "          docLink.innerHTML = docLinkHtml;\n",
              "          element.appendChild(docLink);\n",
              "        }\n",
              "      </script>\n",
              "    </div>\n",
              "  </div>\n",
              "  "
            ],
            "text/plain": [
              "                                                     tweet  label  counts\n",
              "866045                                       <user> thanks      1    3094\n",
              "321342                        <user> can't wait to see you      0    2007\n",
              "2048875   thank you very much everyone night night to alll      1    1641\n",
              "1493097  i love our fans ! there all so beautiful ! x <...      1    1536\n",
              "1326261  girlfriend : babe , whats your favorite positi...      1     621\n",
              "1648601  just reading lots of peoples bios you guys are...      1     582\n",
              "469175    <user> how are you ? please follow sexy <user> x      1     571\n",
              "873620                        <user> thanks for the follow      1     551\n",
              "364263                         <user> follow back please ?      1     536\n",
              "369179   <user> for saying that ' i smell ' you have to...      1     533"
            ]
          },
          "execution_count": 21,
          "metadata": {},
          "output_type": "execute_result"
        }
      ],
      "source": [
        "duplicated.sort_values('tweet', ascending = False).sort_values('counts', ascending = False).head(10)"
      ]
    },
    {
      "cell_type": "code",
      "execution_count": 22,
      "metadata": {
        "execution": {
          "iopub.execute_input": "2022-07-30T08:12:56.369127Z",
          "iopub.status.busy": "2022-07-30T08:12:56.368264Z",
          "iopub.status.idle": "2022-07-30T08:13:08.264135Z",
          "shell.execute_reply": "2022-07-30T08:13:08.262849Z",
          "shell.execute_reply.started": "2022-07-30T08:12:56.369066Z"
        },
        "id": "HxIbS5r5hyJ9",
        "trusted": true
      },
      "outputs": [],
      "source": [
        "duplicated = train.groupby(['tweet', 'label']).size().reset_index(name='counts')"
      ]
    },
    {
      "cell_type": "code",
      "execution_count": 24,
      "metadata": {
        "colab": {
          "base_uri": "https://localhost:8080/",
          "height": 111
        },
        "execution": {
          "iopub.execute_input": "2022-07-30T08:13:11.325892Z",
          "iopub.status.busy": "2022-07-30T08:13:11.325428Z",
          "iopub.status.idle": "2022-07-30T08:13:11.900358Z",
          "shell.execute_reply": "2022-07-30T08:13:11.899530Z",
          "shell.execute_reply.started": "2022-07-30T08:13:11.325846Z"
        },
        "id": "HfBzv-yZhyJ9",
        "outputId": "e33b6764-ceb8-427b-9d9b-0217804c6fa0",
        "trusted": true
      },
      "outputs": [
        {
          "data": {
            "text/html": [
              "\n",
              "  <div id=\"df-2be736f9-bf32-49ff-812c-3c38b1c1b79b\">\n",
              "    <div class=\"colab-df-container\">\n",
              "      <div>\n",
              "<style scoped>\n",
              "    .dataframe tbody tr th:only-of-type {\n",
              "        vertical-align: middle;\n",
              "    }\n",
              "\n",
              "    .dataframe tbody tr th {\n",
              "        vertical-align: top;\n",
              "    }\n",
              "\n",
              "    .dataframe thead th {\n",
              "        text-align: right;\n",
              "    }\n",
              "</style>\n",
              "<table border=\"1\" class=\"dataframe\">\n",
              "  <thead>\n",
              "    <tr style=\"text-align: right;\">\n",
              "      <th></th>\n",
              "      <th>tweet</th>\n",
              "      <th>label</th>\n",
              "      <th>counts</th>\n",
              "    </tr>\n",
              "  </thead>\n",
              "  <tbody>\n",
              "    <tr>\n",
              "      <th>321342</th>\n",
              "      <td>&lt;user&gt; can't wait to see you</td>\n",
              "      <td>0</td>\n",
              "      <td>2007</td>\n",
              "    </tr>\n",
              "    <tr>\n",
              "      <th>321343</th>\n",
              "      <td>&lt;user&gt; can't wait to see you</td>\n",
              "      <td>1</td>\n",
              "      <td>11</td>\n",
              "    </tr>\n",
              "  </tbody>\n",
              "</table>\n",
              "</div>\n",
              "      <button class=\"colab-df-convert\" onclick=\"convertToInteractive('df-2be736f9-bf32-49ff-812c-3c38b1c1b79b')\"\n",
              "              title=\"Convert this dataframe to an interactive table.\"\n",
              "              style=\"display:none;\">\n",
              "        \n",
              "  <svg xmlns=\"http://www.w3.org/2000/svg\" height=\"24px\"viewBox=\"0 0 24 24\"\n",
              "       width=\"24px\">\n",
              "    <path d=\"M0 0h24v24H0V0z\" fill=\"none\"/>\n",
              "    <path d=\"M18.56 5.44l.94 2.06.94-2.06 2.06-.94-2.06-.94-.94-2.06-.94 2.06-2.06.94zm-11 1L8.5 8.5l.94-2.06 2.06-.94-2.06-.94L8.5 2.5l-.94 2.06-2.06.94zm10 10l.94 2.06.94-2.06 2.06-.94-2.06-.94-.94-2.06-.94 2.06-2.06.94z\"/><path d=\"M17.41 7.96l-1.37-1.37c-.4-.4-.92-.59-1.43-.59-.52 0-1.04.2-1.43.59L10.3 9.45l-7.72 7.72c-.78.78-.78 2.05 0 2.83L4 21.41c.39.39.9.59 1.41.59.51 0 1.02-.2 1.41-.59l7.78-7.78 2.81-2.81c.8-.78.8-2.07 0-2.86zM5.41 20L4 18.59l7.72-7.72 1.47 1.35L5.41 20z\"/>\n",
              "  </svg>\n",
              "      </button>\n",
              "      \n",
              "  <style>\n",
              "    .colab-df-container {\n",
              "      display:flex;\n",
              "      flex-wrap:wrap;\n",
              "      gap: 12px;\n",
              "    }\n",
              "\n",
              "    .colab-df-convert {\n",
              "      background-color: #E8F0FE;\n",
              "      border: none;\n",
              "      border-radius: 50%;\n",
              "      cursor: pointer;\n",
              "      display: none;\n",
              "      fill: #1967D2;\n",
              "      height: 32px;\n",
              "      padding: 0 0 0 0;\n",
              "      width: 32px;\n",
              "    }\n",
              "\n",
              "    .colab-df-convert:hover {\n",
              "      background-color: #E2EBFA;\n",
              "      box-shadow: 0px 1px 2px rgba(60, 64, 67, 0.3), 0px 1px 3px 1px rgba(60, 64, 67, 0.15);\n",
              "      fill: #174EA6;\n",
              "    }\n",
              "\n",
              "    [theme=dark] .colab-df-convert {\n",
              "      background-color: #3B4455;\n",
              "      fill: #D2E3FC;\n",
              "    }\n",
              "\n",
              "    [theme=dark] .colab-df-convert:hover {\n",
              "      background-color: #434B5C;\n",
              "      box-shadow: 0px 1px 3px 1px rgba(0, 0, 0, 0.15);\n",
              "      filter: drop-shadow(0px 1px 2px rgba(0, 0, 0, 0.3));\n",
              "      fill: #FFFFFF;\n",
              "    }\n",
              "  </style>\n",
              "\n",
              "      <script>\n",
              "        const buttonEl =\n",
              "          document.querySelector('#df-2be736f9-bf32-49ff-812c-3c38b1c1b79b button.colab-df-convert');\n",
              "        buttonEl.style.display =\n",
              "          google.colab.kernel.accessAllowed ? 'block' : 'none';\n",
              "\n",
              "        async function convertToInteractive(key) {\n",
              "          const element = document.querySelector('#df-2be736f9-bf32-49ff-812c-3c38b1c1b79b');\n",
              "          const dataTable =\n",
              "            await google.colab.kernel.invokeFunction('convertToInteractive',\n",
              "                                                     [key], {});\n",
              "          if (!dataTable) return;\n",
              "\n",
              "          const docLinkHtml = 'Like what you see? Visit the ' +\n",
              "            '<a target=\"_blank\" href=https://colab.research.google.com/notebooks/data_table.ipynb>data table notebook</a>'\n",
              "            + ' to learn more about interactive tables.';\n",
              "          element.innerHTML = '';\n",
              "          dataTable['output_type'] = 'display_data';\n",
              "          await google.colab.output.renderOutput(dataTable, element);\n",
              "          const docLink = document.createElement('div');\n",
              "          docLink.innerHTML = docLinkHtml;\n",
              "          element.appendChild(docLink);\n",
              "        }\n",
              "      </script>\n",
              "    </div>\n",
              "  </div>\n",
              "  "
            ],
            "text/plain": [
              "                               tweet  label  counts\n",
              "321342  <user> can't wait to see you      0    2007\n",
              "321343  <user> can't wait to see you      1      11"
            ]
          },
          "execution_count": 24,
          "metadata": {},
          "output_type": "execute_result"
        }
      ],
      "source": [
        "duplicated[duplicated['tweet']=='<user> can\\'t wait to see you']"
      ]
    },
    {
      "cell_type": "markdown",
      "metadata": {
        "id": "sI3BkylahyJ9"
      },
      "source": [
        "We delete tweets with the same tweet and count since they will have different label."
      ]
    },
    {
      "cell_type": "code",
      "execution_count": 25,
      "metadata": {
        "execution": {
          "iopub.execute_input": "2022-07-30T08:13:11.902316Z",
          "iopub.status.busy": "2022-07-30T08:13:11.901621Z",
          "iopub.status.idle": "2022-07-30T08:13:26.777252Z",
          "shell.execute_reply": "2022-07-30T08:13:26.776051Z",
          "shell.execute_reply.started": "2022-07-30T08:13:11.902271Z"
        },
        "id": "xHZ1mOJthyJ9",
        "trusted": true
      },
      "outputs": [],
      "source": [
        "no_diff_label = duplicated.drop_duplicates(['tweet','counts'], keep=False)"
      ]
    },
    {
      "cell_type": "code",
      "execution_count": 26,
      "metadata": {
        "colab": {
          "base_uri": "https://localhost:8080/"
        },
        "execution": {
          "iopub.execute_input": "2022-07-30T08:16:42.439464Z",
          "iopub.status.busy": "2022-07-30T08:16:42.438608Z",
          "iopub.status.idle": "2022-07-30T08:16:42.446479Z",
          "shell.execute_reply": "2022-07-30T08:16:42.445029Z",
          "shell.execute_reply.started": "2022-07-30T08:16:42.439416Z"
        },
        "id": "TbnGxW6qhyJ-",
        "outputId": "4f2a6cf2-5674-40bb-96a8-997901e1aea1",
        "trusted": true
      },
      "outputs": [
        {
          "name": "stdout",
          "output_type": "stream",
          "text": [
            "2268820 tweets remaining\n"
          ]
        }
      ],
      "source": [
        "print(str(len(no_diff_label))+' tweets remaining')"
      ]
    },
    {
      "cell_type": "markdown",
      "metadata": {
        "id": "KW1tR3WjhyJ-"
      },
      "source": [
        "Remove all the duplicates, keeping the one with more occurrences"
      ]
    },
    {
      "cell_type": "code",
      "execution_count": 27,
      "metadata": {
        "execution": {
          "iopub.execute_input": "2022-07-30T08:16:56.185264Z",
          "iopub.status.busy": "2022-07-30T08:16:56.184857Z",
          "iopub.status.idle": "2022-07-30T08:16:59.095026Z",
          "shell.execute_reply": "2022-07-30T08:16:59.093977Z",
          "shell.execute_reply.started": "2022-07-30T08:16:56.185233Z"
        },
        "id": "WjET2Wy3hyJ-",
        "trusted": true
      },
      "outputs": [],
      "source": [
        "no_dup_diff_label = no_diff_label.drop_duplicates(['tweet'], keep = 'first')"
      ]
    },
    {
      "cell_type": "code",
      "execution_count": 28,
      "metadata": {
        "colab": {
          "base_uri": "https://localhost:8080/"
        },
        "execution": {
          "iopub.execute_input": "2022-07-30T08:17:10.740482Z",
          "iopub.status.busy": "2022-07-30T08:17:10.740081Z",
          "iopub.status.idle": "2022-07-30T08:17:10.746719Z",
          "shell.execute_reply": "2022-07-30T08:17:10.745499Z",
          "shell.execute_reply.started": "2022-07-30T08:17:10.740452Z"
        },
        "id": "7V-hQ9BWhyJ-",
        "outputId": "b546f90f-a169-4c67-dcac-da27a72b1169",
        "trusted": true
      },
      "outputs": [
        {
          "name": "stdout",
          "output_type": "stream",
          "text": [
            "2267760 tweets remaining\n"
          ]
        }
      ],
      "source": [
        "print(str(len(no_dup_diff_label))+' tweets remaining')"
      ]
    }
  ],
  "metadata": {
    "colab": {
      "collapsed_sections": [],
      "name": "data-analysis-2.ipynb",
      "provenance": []
    },
    "kernelspec": {
      "display_name": "Python 3.9.9 64-bit",
      "language": "python",
      "name": "python3"
    },
    "language_info": {
      "codemirror_mode": {
        "name": "ipython",
        "version": 3
      },
      "file_extension": ".py",
      "mimetype": "text/x-python",
      "name": "python",
      "nbconvert_exporter": "python",
      "pygments_lexer": "ipython3",
      "version": "3.9.9"
    },
    "vscode": {
      "interpreter": {
        "hash": "b0fa6594d8f4cbf19f97940f81e996739fb7646882a419484c72d19e05852a7e"
      }
    }
  },
  "nbformat": 4,
  "nbformat_minor": 0
}
