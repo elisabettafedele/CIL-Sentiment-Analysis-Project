{
      "cells": [
            {
                  "cell_type": "code",
                  "execution_count": 1,
                  "metadata": {},
                  "outputs": [
                        {
                              "name": "stderr",
                              "output_type": "stream",
                              "text": [
                                    "2022-07-17 16:07:20.861876: I tensorflow/core/util/util.cc:169] oneDNN custom operations are on. You may see slightly different numerical results due to floating-point round-off errors from different computation orders. To turn them off, set the environment variable `TF_ENABLE_ONEDNN_OPTS=0`.\n"
                              ]
                        }
                  ],
                  "source": [
                        "import os\n",
                        "import shutil\n",
                        "\n",
                        "import tensorflow as tf\n",
                        "import tensorflow_hub as hub\n",
                        "import tensorflow_text as text\n",
                        "from official.nlp import optimization\n",
                        "\n",
                        "import matplotlib.pyplot as plt\n",
                        "tf.get_logger().setLevel(\"ERROR\")"
                  ]
            },
            {
                  "cell_type": "code",
                  "execution_count": null,
                  "metadata": {},
                  "outputs": [],
                  "source": [
                        "train_path = 'path/to/train/dir'\n",
                        "test_path = 'path/to/test/dir'\n",
                        "pred_path = \"path/to/pred.csv\""
                  ]
            },
            {
                  "cell_type": "code",
                  "execution_count": 23,
                  "metadata": {},
                  "outputs": [
                        {
                              "name": "stdout",
                              "output_type": "stream",
                              "text": [
                                    "Found 200000 files belonging to 2 classes.\n",
                                    "Using 160000 files for training.\n",
                                    "Found 200000 files belonging to 2 classes.\n",
                                    "Using 40000 files for validation.\n",
                                    "Found 10000 files belonging to 1 classes.\n"
                              ]
                        }
                  ],
                  "source": [
                        "AUTOTUNE = tf.data.AUTOTUNE\n",
                        "batch_size = 16\n",
                        "seed = 42\n",
                        "\n",
                        "raw_train_ds = tf.keras.utils.text_dataset_from_directory(\n",
                        "    train_path,\n",
                        "    batch_size=batch_size,\n",
                        "    validation_split=0.2,\n",
                        "    subset='training',\n",
                        "    seed=seed)\n",
                        "\n",
                        "class_names = raw_train_ds.class_names\n",
                        "train_ds = raw_train_ds.cache().prefetch(buffer_size=AUTOTUNE)\n",
                        "\n",
                        "val_ds = tf.keras.utils.text_dataset_from_directory(\n",
                        "    train_path,\n",
                        "    batch_size=batch_size,\n",
                        "    validation_split=0.2,\n",
                        "    subset='validation',\n",
                        "    seed=seed)\n",
                        "\n",
                        "val_ds = val_ds.cache().prefetch(buffer_size=AUTOTUNE)\n",
                        "\n",
                        "test_ds = tf.keras.utils.text_dataset_from_directory(\n",
                        "    test_path,\n",
                        "    batch_size=batch_size,\n",
                        "    shuffle=False)\n",
                        "\n",
                        "test_ds = test_ds.cache().prefetch(buffer_size=AUTOTUNE)\n",
                        "\n"
                  ]
            },
            {
                  "cell_type": "code",
                  "execution_count": 3,
                  "metadata": {},
                  "outputs": [
                        {
                              "name": "stdout",
                              "output_type": "stream",
                              "text": [
                                    "Review: b'<user> say thanks ! ! & it was funny at the same time\\n'\n",
                                    "Label : 1 (pos)\n",
                                    "Review: b'<user> theses a button at the side which should do it\\n'\n",
                                    "Label : 1 (pos)\n",
                                    "Review: b'good sense organic raw almonds , 6 - ounce bag ( pack of 3 good sense organic raw almonds are naturally delicious ... <url>\\n'\n",
                                    "Label : 0 (neg)\n"
                              ]
                        },
                        {
                              "name": "stderr",
                              "output_type": "stream",
                              "text": [
                                    "2022-07-17 16:07:31.458360: W tensorflow/core/kernels/data/cache_dataset_ops.cc:856] The calling iterator did not fully read the dataset being cached. In order to avoid unexpected truncation of the dataset, the partially cached contents of the dataset  will be discarded. This can happen if you have an input pipeline similar to `dataset.cache().take(k).repeat()`. You should use `dataset.take(k).cache().repeat()` instead.\n"
                              ]
                        }
                  ],
                  "source": [
                        "for text_batch, label_batch in train_ds.take(1):\n",
                        "  for i in range(3):\n",
                        "    print(f'Review: {text_batch.numpy()[i]}')\n",
                        "    label = label_batch.numpy()[i]\n",
                        "    print(f'Label : {label} ({class_names[label]})')\n"
                  ]
            },
            {
                  "cell_type": "code",
                  "execution_count": 4,
                  "metadata": {},
                  "outputs": [
                        {
                              "name": "stdout",
                              "output_type": "stream",
                              "text": [
                                    "BERT model selected           : https://tfhub.dev/tensorflow/small_bert/bert_en_uncased_L-4_H-512_A-8/1\n",
                                    "Preprocess model auto-selected: https://tfhub.dev/tensorflow/bert_en_uncased_preprocess/3\n"
                              ]
                        }
                  ],
                  "source": [
                        "bert_model_name = \"small_bert/bert_en_uncased_L-4_H-512_A-8\"\n",
                        "\n",
                        "map_name_to_handle = {\n",
                        "    'bert_en_uncased_L-12_H-768_A-12':\n",
                        "        'https://tfhub.dev/tensorflow/bert_en_uncased_L-12_H-768_A-12/3',\n",
                        "    'bert_en_cased_L-12_H-768_A-12':\n",
                        "        'https://tfhub.dev/tensorflow/bert_en_cased_L-12_H-768_A-12/3',\n",
                        "    'bert_multi_cased_L-12_H-768_A-12':\n",
                        "        'https://tfhub.dev/tensorflow/bert_multi_cased_L-12_H-768_A-12/3',\n",
                        "    'small_bert/bert_en_uncased_L-2_H-128_A-2':\n",
                        "        'https://tfhub.dev/tensorflow/small_bert/bert_en_uncased_L-2_H-128_A-2/1',\n",
                        "    'small_bert/bert_en_uncased_L-2_H-256_A-4':\n",
                        "        'https://tfhub.dev/tensorflow/small_bert/bert_en_uncased_L-2_H-256_A-4/1',\n",
                        "    'small_bert/bert_en_uncased_L-2_H-512_A-8':\n",
                        "        'https://tfhub.dev/tensorflow/small_bert/bert_en_uncased_L-2_H-512_A-8/1',\n",
                        "    'small_bert/bert_en_uncased_L-2_H-768_A-12':\n",
                        "        'https://tfhub.dev/tensorflow/small_bert/bert_en_uncased_L-2_H-768_A-12/1',\n",
                        "    'small_bert/bert_en_uncased_L-4_H-128_A-2':\n",
                        "        'https://tfhub.dev/tensorflow/small_bert/bert_en_uncased_L-4_H-128_A-2/1',\n",
                        "    'small_bert/bert_en_uncased_L-4_H-256_A-4':\n",
                        "        'https://tfhub.dev/tensorflow/small_bert/bert_en_uncased_L-4_H-256_A-4/1',\n",
                        "    'small_bert/bert_en_uncased_L-4_H-512_A-8':\n",
                        "        'https://tfhub.dev/tensorflow/small_bert/bert_en_uncased_L-4_H-512_A-8/1',\n",
                        "    'small_bert/bert_en_uncased_L-4_H-768_A-12':\n",
                        "        'https://tfhub.dev/tensorflow/small_bert/bert_en_uncased_L-4_H-768_A-12/1',\n",
                        "    'small_bert/bert_en_uncased_L-6_H-128_A-2':\n",
                        "        'https://tfhub.dev/tensorflow/small_bert/bert_en_uncased_L-6_H-128_A-2/1',\n",
                        "    'small_bert/bert_en_uncased_L-6_H-256_A-4':\n",
                        "        'https://tfhub.dev/tensorflow/small_bert/bert_en_uncased_L-6_H-256_A-4/1',\n",
                        "    'small_bert/bert_en_uncased_L-6_H-512_A-8':\n",
                        "        'https://tfhub.dev/tensorflow/small_bert/bert_en_uncased_L-6_H-512_A-8/1',\n",
                        "    'small_bert/bert_en_uncased_L-6_H-768_A-12':\n",
                        "        'https://tfhub.dev/tensorflow/small_bert/bert_en_uncased_L-6_H-768_A-12/1',\n",
                        "    'small_bert/bert_en_uncased_L-8_H-128_A-2':\n",
                        "        'https://tfhub.dev/tensorflow/small_bert/bert_en_uncased_L-8_H-128_A-2/1',\n",
                        "    'small_bert/bert_en_uncased_L-8_H-256_A-4':\n",
                        "        'https://tfhub.dev/tensorflow/small_bert/bert_en_uncased_L-8_H-256_A-4/1',\n",
                        "    'small_bert/bert_en_uncased_L-8_H-512_A-8':\n",
                        "        'https://tfhub.dev/tensorflow/small_bert/bert_en_uncased_L-8_H-512_A-8/1',\n",
                        "    'small_bert/bert_en_uncased_L-8_H-768_A-12':\n",
                        "        'https://tfhub.dev/tensorflow/small_bert/bert_en_uncased_L-8_H-768_A-12/1',\n",
                        "    'small_bert/bert_en_uncased_L-10_H-128_A-2':\n",
                        "        'https://tfhub.dev/tensorflow/small_bert/bert_en_uncased_L-10_H-128_A-2/1',\n",
                        "    'small_bert/bert_en_uncased_L-10_H-256_A-4':\n",
                        "        'https://tfhub.dev/tensorflow/small_bert/bert_en_uncased_L-10_H-256_A-4/1',\n",
                        "    'small_bert/bert_en_uncased_L-10_H-512_A-8':\n",
                        "        'https://tfhub.dev/tensorflow/small_bert/bert_en_uncased_L-10_H-512_A-8/1',\n",
                        "    'small_bert/bert_en_uncased_L-10_H-768_A-12':\n",
                        "        'https://tfhub.dev/tensorflow/small_bert/bert_en_uncased_L-10_H-768_A-12/1',\n",
                        "    'small_bert/bert_en_uncased_L-12_H-128_A-2':\n",
                        "        'https://tfhub.dev/tensorflow/small_bert/bert_en_uncased_L-12_H-128_A-2/1',\n",
                        "    'small_bert/bert_en_uncased_L-12_H-256_A-4':\n",
                        "        'https://tfhub.dev/tensorflow/small_bert/bert_en_uncased_L-12_H-256_A-4/1',\n",
                        "    'small_bert/bert_en_uncased_L-12_H-512_A-8':\n",
                        "        'https://tfhub.dev/tensorflow/small_bert/bert_en_uncased_L-12_H-512_A-8/1',\n",
                        "    'small_bert/bert_en_uncased_L-12_H-768_A-12':\n",
                        "        'https://tfhub.dev/tensorflow/small_bert/bert_en_uncased_L-12_H-768_A-12/1',\n",
                        "    'albert_en_base':\n",
                        "        'https://tfhub.dev/tensorflow/albert_en_base/2',\n",
                        "    'electra_small':\n",
                        "        'https://tfhub.dev/google/electra_small/2',\n",
                        "    'electra_base':\n",
                        "        'https://tfhub.dev/google/electra_base/2',\n",
                        "    'experts_pubmed':\n",
                        "        'https://tfhub.dev/google/experts/bert/pubmed/2',\n",
                        "    'experts_wiki_books':\n",
                        "        'https://tfhub.dev/google/experts/bert/wiki_books/2',\n",
                        "    'talking-heads_base':\n",
                        "        'https://tfhub.dev/tensorflow/talkheads_ggelu_bert_en_base/1',\n",
                        "    \"experts_sst2\":\n",
                        "        \"https://tfhub.dev/google/experts/bert/wiki_books/sst2/2\",\n",
                        "    \"talking-heads_base_2\":\n",
                        "        \"https://tfhub.dev/tensorflow/talkheads_ggelu_bert_en_base/2\",\n",
                        "\n",
                        "}\n",
                        "\n",
                        "map_model_to_preprocess = {\n",
                        "    'bert_en_uncased_L-12_H-768_A-12':\n",
                        "        'https://tfhub.dev/tensorflow/bert_en_uncased_preprocess/3',\n",
                        "    'bert_en_cased_L-12_H-768_A-12':\n",
                        "        'https://tfhub.dev/tensorflow/bert_en_cased_preprocess/3',\n",
                        "    'small_bert/bert_en_uncased_L-2_H-128_A-2':\n",
                        "        'https://tfhub.dev/tensorflow/bert_en_uncased_preprocess/3',\n",
                        "    'small_bert/bert_en_uncased_L-2_H-256_A-4':\n",
                        "        'https://tfhub.dev/tensorflow/bert_en_uncased_preprocess/3',\n",
                        "    'small_bert/bert_en_uncased_L-2_H-512_A-8':\n",
                        "        'https://tfhub.dev/tensorflow/bert_en_uncased_preprocess/3',\n",
                        "    'small_bert/bert_en_uncased_L-2_H-768_A-12':\n",
                        "        'https://tfhub.dev/tensorflow/bert_en_uncased_preprocess/3',\n",
                        "    'small_bert/bert_en_uncased_L-4_H-128_A-2':\n",
                        "        'https://tfhub.dev/tensorflow/bert_en_uncased_preprocess/3',\n",
                        "    'small_bert/bert_en_uncased_L-4_H-256_A-4':\n",
                        "        'https://tfhub.dev/tensorflow/bert_en_uncased_preprocess/3',\n",
                        "    'small_bert/bert_en_uncased_L-4_H-512_A-8':\n",
                        "        'https://tfhub.dev/tensorflow/bert_en_uncased_preprocess/3',\n",
                        "    'small_bert/bert_en_uncased_L-4_H-768_A-12':\n",
                        "        'https://tfhub.dev/tensorflow/bert_en_uncased_preprocess/3',\n",
                        "    'small_bert/bert_en_uncased_L-6_H-128_A-2':\n",
                        "        'https://tfhub.dev/tensorflow/bert_en_uncased_preprocess/3',\n",
                        "    'small_bert/bert_en_uncased_L-6_H-256_A-4':\n",
                        "        'https://tfhub.dev/tensorflow/bert_en_uncased_preprocess/3',\n",
                        "    'small_bert/bert_en_uncased_L-6_H-512_A-8':\n",
                        "        'https://tfhub.dev/tensorflow/bert_en_uncased_preprocess/3',\n",
                        "    'small_bert/bert_en_uncased_L-6_H-768_A-12':\n",
                        "        'https://tfhub.dev/tensorflow/bert_en_uncased_preprocess/3',\n",
                        "    'small_bert/bert_en_uncased_L-8_H-128_A-2':\n",
                        "        'https://tfhub.dev/tensorflow/bert_en_uncased_preprocess/3',\n",
                        "    'small_bert/bert_en_uncased_L-8_H-256_A-4':\n",
                        "        'https://tfhub.dev/tensorflow/bert_en_uncased_preprocess/3',\n",
                        "    'small_bert/bert_en_uncased_L-8_H-512_A-8':\n",
                        "        'https://tfhub.dev/tensorflow/bert_en_uncased_preprocess/3',\n",
                        "    'small_bert/bert_en_uncased_L-8_H-768_A-12':\n",
                        "        'https://tfhub.dev/tensorflow/bert_en_uncased_preprocess/3',\n",
                        "    'small_bert/bert_en_uncased_L-10_H-128_A-2':\n",
                        "        'https://tfhub.dev/tensorflow/bert_en_uncased_preprocess/3',\n",
                        "    'small_bert/bert_en_uncased_L-10_H-256_A-4':\n",
                        "        'https://tfhub.dev/tensorflow/bert_en_uncased_preprocess/3',\n",
                        "    'small_bert/bert_en_uncased_L-10_H-512_A-8':\n",
                        "        'https://tfhub.dev/tensorflow/bert_en_uncased_preprocess/3',\n",
                        "    'small_bert/bert_en_uncased_L-10_H-768_A-12':\n",
                        "        'https://tfhub.dev/tensorflow/bert_en_uncased_preprocess/3',\n",
                        "    'small_bert/bert_en_uncased_L-12_H-128_A-2':\n",
                        "        'https://tfhub.dev/tensorflow/bert_en_uncased_preprocess/3',\n",
                        "    'small_bert/bert_en_uncased_L-12_H-256_A-4':\n",
                        "        'https://tfhub.dev/tensorflow/bert_en_uncased_preprocess/3',\n",
                        "    'small_bert/bert_en_uncased_L-12_H-512_A-8':\n",
                        "        'https://tfhub.dev/tensorflow/bert_en_uncased_preprocess/3',\n",
                        "    'small_bert/bert_en_uncased_L-12_H-768_A-12':\n",
                        "        'https://tfhub.dev/tensorflow/bert_en_uncased_preprocess/3',\n",
                        "    'bert_multi_cased_L-12_H-768_A-12':\n",
                        "        'https://tfhub.dev/tensorflow/bert_multi_cased_preprocess/3',\n",
                        "    'albert_en_base':\n",
                        "        'https://tfhub.dev/tensorflow/albert_en_preprocess/3',\n",
                        "    'electra_small':\n",
                        "        'https://tfhub.dev/tensorflow/bert_en_uncased_preprocess/3',\n",
                        "    'electra_base':\n",
                        "        'https://tfhub.dev/tensorflow/bert_en_uncased_preprocess/3',\n",
                        "    'experts_pubmed':\n",
                        "        'https://tfhub.dev/tensorflow/bert_en_uncased_preprocess/3',\n",
                        "    'experts_wiki_books':\n",
                        "        'https://tfhub.dev/tensorflow/bert_en_uncased_preprocess/3',\n",
                        "    'talking-heads_base':\n",
                        "        'https://tfhub.dev/tensorflow/bert_en_uncased_preprocess/3',\n",
                        "    \"experts_sst2\":\n",
                        "        \"https://tfhub.dev/tensorflow/bert_en_uncased_preprocess/3\",\n",
                        "    \"talking-heads_base_2\":\n",
                        "        \"https://tfhub.dev/tensorflow/bert_en_uncased_preprocess/3\",\n",
                        "       \n",
                        "}\n",
                        "\n",
                        "tfhub_handle_encoder = map_name_to_handle[bert_model_name]\n",
                        "tfhub_handle_preprocess = map_model_to_preprocess[bert_model_name]\n",
                        "\n",
                        "print(f'BERT model selected           : {tfhub_handle_encoder}')\n",
                        "print(f'Preprocess model auto-selected: {tfhub_handle_preprocess}')\n"
                  ]
            },
            {
                  "cell_type": "code",
                  "execution_count": 5,
                  "metadata": {},
                  "outputs": [],
                  "source": [
                        "preprocessor = hub.load(tfhub_handle_preprocess)\n",
                        "seq_lenght = 240\n",
                        "bert_pack_inputs = hub.KerasLayer(\n",
                        "    preprocessor.bert_pack_inputs,\n",
                        "    arguments=dict(seq_lenght=seq_lenght)\n",
                        ")"
                  ]
            },
            {
                  "cell_type": "code",
                  "execution_count": 6,
                  "metadata": {},
                  "outputs": [],
                  "source": [
                        "import numpy as np"
                  ]
            },
            {
                  "cell_type": "code",
                  "execution_count": 7,
                  "metadata": {},
                  "outputs": [],
                  "source": [
                        "def make_bert_preprocess_model(sentence_features, seq_length=128):\n",
                        "  \"\"\"Returns Model mapping string features to BERT inputs.\n",
                        "\n",
                        "  Args:\n",
                        "    sentence_features: a list with the names of string-valued features.\n",
                        "    seq_length: an integer that defines the sequence length of BERT inputs.\n",
                        "\n",
                        "  Returns:\n",
                        "    A Keras Model that can be called on a list or dict of string Tensors\n",
                        "    (with the order or names, resp., given by sentence_features) and\n",
                        "    returns a dict of tensors for input to BERT.\n",
                        "  \"\"\"\n",
                        "\n",
                        "  input_segments = [\n",
                        "      tf.keras.layers.Input(shape=(), dtype=tf.string, name=ft)\n",
                        "      for ft in sentence_features]\n",
                        "\n",
                        "  # Tokenize the text to word pieces.\n",
                        "  bert_preprocess = hub.load(tfhub_handle_preprocess)\n",
                        "  tokenizer = hub.KerasLayer(bert_preprocess.tokenize, name='tokenizer')\n",
                        "  segments = [tokenizer(s) for s in input_segments]\n",
                        "\n",
                        "  # Optional: Trim segments in a smart way to fit seq_length.\n",
                        "  # Simple cases (like this example) can skip this step and let\n",
                        "  # the next step apply a default truncation to approximately equal lengths.\n",
                        "  truncated_segments = segments\n",
                        "\n",
                        "  # Pack inputs. The details (start/end token ids, dict of output tensors)\n",
                        "  # are model-dependent, so this gets loaded from the SavedModel.\n",
                        "  packer = hub.KerasLayer(bert_preprocess.bert_pack_inputs,\n",
                        "                          arguments=dict(seq_length=seq_length),\n",
                        "                          name='packer')\n",
                        "  model_inputs = packer(truncated_segments)\n",
                        "  return tf.keras.Model(input_segments, model_inputs)\n"
                  ]
            },
            {
                  "cell_type": "code",
                  "execution_count": 8,
                  "metadata": {},
                  "outputs": [],
                  "source": [
                        "#bert_preprocess_model = hub.KerasLayer(tfhub_handle_preprocess)\n"
                  ]
            },
            {
                  "cell_type": "code",
                  "execution_count": 9,
                  "metadata": {},
                  "outputs": [],
                  "source": [
                        "# text_test = ['this is such an amazing movie!']\n",
                        "# text_preprocessed = bert_preprocess_model(text_test)\n",
                        "\n",
                        "# print(f'Keys       : {list(text_preprocessed.keys())}')\n",
                        "# print(f'Shape      : {text_preprocessed[\"input_word_ids\"].shape}')\n",
                        "# print(f'Word Ids   : {text_preprocessed[\"input_word_ids\"][0, :12]}')\n",
                        "# print(f'Input Mask : {text_preprocessed[\"input_mask\"][0, :12]}')\n",
                        "# print(f'Type Ids   : {text_preprocessed[\"input_type_ids\"][0, :12]}')\n"
                  ]
            },
            {
                  "cell_type": "code",
                  "execution_count": 10,
                  "metadata": {},
                  "outputs": [],
                  "source": [
                        "text_test = ['this is such an amazing movie!']"
                  ]
            },
            {
                  "cell_type": "code",
                  "execution_count": 11,
                  "metadata": {},
                  "outputs": [
                        {
                              "name": "stdout",
                              "output_type": "stream",
                              "text": [
                                    "Keys       : ['input_word_ids', 'input_type_ids', 'input_mask']\n",
                                    "Shape      : (1, 240)\n",
                                    "Word Ids   : [ 101 2023 2003 2107 2019 6429 3185  999  102    0    0    0]\n",
                                    "Input Mask : [1 1 1 1 1 1 1 1 1 0 0 0]\n",
                                    "Type Ids   : [0 0 0 0 0 0 0 0 0 0 0 0]\n"
                              ]
                        }
                  ],
                  "source": [
                        "test_preprocess_model = make_bert_preprocess_model([\"my_input\"], 240)\n",
                        "text_preprocessed = test_preprocess_model(np.array(text_test))\n",
                        "print(f'Keys       : {list(text_preprocessed.keys())}')\n",
                        "print(f'Shape      : {text_preprocessed[\"input_word_ids\"].shape}')\n",
                        "print(f'Word Ids   : {text_preprocessed[\"input_word_ids\"][0, :12]}')\n",
                        "print(f'Input Mask : {text_preprocessed[\"input_mask\"][0, :12]}')\n",
                        "print(f'Type Ids   : {text_preprocessed[\"input_type_ids\"][0, :12]}')"
                  ]
            },
            {
                  "cell_type": "code",
                  "execution_count": 12,
                  "metadata": {},
                  "outputs": [],
                  "source": [
                        "bert_model = hub.KerasLayer(tfhub_handle_encoder)\n"
                  ]
            },
            {
                  "cell_type": "code",
                  "execution_count": 13,
                  "metadata": {},
                  "outputs": [
                        {
                              "name": "stdout",
                              "output_type": "stream",
                              "text": [
                                    "Loaded BERT: https://tfhub.dev/tensorflow/small_bert/bert_en_uncased_L-4_H-512_A-8/1\n",
                                    "Pooled Outputs Shape:(1, 512)\n",
                                    "Pooled Outputs Values:[ 0.7628157   0.9928061  -0.18576425  0.36697954  0.15198554  0.6545076\n",
                                    "  0.9680559  -0.94859445  0.00205859 -0.9877506   0.06841909 -0.976338  ]\n",
                                    "Sequence Outputs Shape:(1, 240, 512)\n",
                                    "Sequence Outputs Values:[[-0.2896363   0.3436278   0.3324666  ...  0.21281569  0.70956737\n",
                                    "  -0.057952  ]\n",
                                    " [-0.28782964  0.32019916 -0.22980902 ...  0.58469224 -0.21366507\n",
                                    "   0.72695714]\n",
                                    " [-0.66158056  0.68922263 -0.8737632  ...  0.10845225 -0.26274735\n",
                                    "   0.47813255]\n",
                                    " ...\n",
                                    " [-0.22588417 -0.28863806 -0.0708538  ...  0.47576928  0.8328503\n",
                                    "   0.40000993]\n",
                                    " [-0.29810667 -0.27387062 -0.05462814 ...  0.48902717  1.0959059\n",
                                    "   0.18140608]\n",
                                    " [-0.4431694   0.00986239  0.07205884 ...  0.17260194  1.1836594\n",
                                    "   0.07893422]]\n"
                              ]
                        },
                        {
                              "name": "stderr",
                              "output_type": "stream",
                              "text": [
                                    "2022-07-17 16:07:48.674319: I tensorflow/stream_executor/cuda/cuda_blas.cc:1786] TensorFloat-32 will be used for the matrix multiplication. This will only be logged once.\n"
                              ]
                        }
                  ],
                  "source": [
                        "bert_results = bert_model(text_preprocessed)\n",
                        "\n",
                        "print(f'Loaded BERT: {tfhub_handle_encoder}')\n",
                        "print(f'Pooled Outputs Shape:{bert_results[\"pooled_output\"].shape}')\n",
                        "print(f'Pooled Outputs Values:{bert_results[\"pooled_output\"][0, :12]}')\n",
                        "print(f'Sequence Outputs Shape:{bert_results[\"sequence_output\"].shape}')\n",
                        "print(f'Sequence Outputs Values:{bert_results[\"sequence_output\"][0, :12]}')\n"
                  ]
            },
            {
                  "cell_type": "code",
                  "execution_count": 14,
                  "metadata": {},
                  "outputs": [],
                  "source": [
                        "def build_classifier_model():\n",
                        "  text_input = tf.keras.layers.Input(shape=(), dtype=tf.string, name='text')\n",
                        "  # preprocessing_layer = hub.KerasLayer(tfhub_handle_preprocess, name='preprocessing')\n",
                        "  # encoder_inputs = preprocessing_layer(text_input)\n",
                        "  test_preprocess_model = make_bert_preprocess_model([\"my_input\"], 240)\n",
                        "  encoder_inputs = test_preprocess_model(text_input)\n",
                        "  encoder = hub.KerasLayer(tfhub_handle_encoder, trainable=True, name='BERT_encoder')\n",
                        "  outputs = encoder(encoder_inputs)\n",
                        "  net = outputs['pooled_output']\n",
                        "  net = tf.keras.layers.Dropout(0.1)(net)\n",
                        "  net = tf.keras.layers.Dense(1, activation=None, name='classifier')(net)\n",
                        "  return tf.keras.Model(text_input, net)\n"
                  ]
            },
            {
                  "cell_type": "code",
                  "execution_count": 15,
                  "metadata": {},
                  "outputs": [
                        {
                              "name": "stdout",
                              "output_type": "stream",
                              "text": [
                                    "tf.Tensor([[0.37235653]], shape=(1, 1), dtype=float32)\n"
                              ]
                        }
                  ],
                  "source": [
                        "classifier_model = build_classifier_model()\n",
                        "bert_raw_result = classifier_model(tf.constant(text_test))\n",
                        "print(tf.sigmoid(bert_raw_result))\n"
                  ]
            },
            {
                  "cell_type": "code",
                  "execution_count": 16,
                  "metadata": {},
                  "outputs": [
                        {
                              "data": {
                                    "image/png": "[encoded data removed]",
                                    "text/plain": [
                                          "<IPython.core.display.Image object>"
                                    ]
                              },
                              "execution_count": 16,
                              "metadata": {},
                              "output_type": "execute_result"
                        }
                  ],
                  "source": [
                        "tf.keras.utils.plot_model(classifier_model)\n"
                  ]
            },
            {
                  "cell_type": "code",
                  "execution_count": 17,
                  "metadata": {},
                  "outputs": [],
                  "source": [
                        "loss = tf.keras.losses.BinaryCrossentropy(from_logits=True)\n",
                        "metrics = tf.metrics.BinaryAccuracy()"
                  ]
            },
            {
                  "cell_type": "code",
                  "execution_count": 18,
                  "metadata": {},
                  "outputs": [],
                  "source": [
                        "epochs = 3\n",
                        "steps_per_epoch = tf.data.experimental.cardinality(train_ds).numpy()\n",
                        "num_train_steps = steps_per_epoch * epochs\n",
                        "num_warmup_steps = int(0.1*num_train_steps)\n",
                        "\n",
                        "init_lr = 3e-5\n",
                        "optimizer = optimization.create_optimizer(init_lr=init_lr,\n",
                        "                                          num_train_steps=num_train_steps,\n",
                        "                                          num_warmup_steps=num_warmup_steps,\n",
                        "                                          optimizer_type='adamw')\n"
                  ]
            },
            {
                  "cell_type": "code",
                  "execution_count": 19,
                  "metadata": {},
                  "outputs": [],
                  "source": [
                        "classifier_model.compile(optimizer=optimizer,\n",
                        "                         loss=loss,\n",
                        "                         metrics=metrics)"
                  ]
            },
            {
                  "cell_type": "code",
                  "execution_count": 20,
                  "metadata": {},
                  "outputs": [
                        {
                              "name": "stdout",
                              "output_type": "stream",
                              "text": [
                                    "Training model with https://tfhub.dev/tensorflow/small_bert/bert_en_uncased_L-4_H-512_A-8/1\n",
                                    "Epoch 1/3\n",
                                    "10000/10000 [==============================] - 1044s 104ms/step - loss: 0.3902 - binary_accuracy: 0.8067 - val_loss: 0.3305 - val_binary_accuracy: 0.8474\n",
                                    "Epoch 2/3\n",
                                    "10000/10000 [==============================] - 1161s 116ms/step - loss: 0.2985 - binary_accuracy: 0.8681 - val_loss: 0.3467 - val_binary_accuracy: 0.8576\n",
                                    "Epoch 3/3\n",
                                    "10000/10000 [==============================] - 1161s 116ms/step - loss: 0.2506 - binary_accuracy: 0.8959 - val_loss: 0.3528 - val_binary_accuracy: 0.8588\n"
                              ]
                        }
                  ],
                  "source": [
                        "print(f'Training model with {tfhub_handle_encoder}')\n",
                        "history = classifier_model.fit(x=train_ds,\n",
                        "                               validation_data=val_ds,\n",
                        "                               epochs=epochs)"
                  ]
            },
            {
                  "cell_type": "code",
                  "execution_count": 21,
                  "metadata": {},
                  "outputs": [
                        {
                              "name": "stderr",
                              "output_type": "stream",
                              "text": [
                                    "WARNING:absl:Found untraced functions such as restored_function_body, restored_function_body, restored_function_body, restored_function_body, restored_function_body while saving (showing 5 of 124). These functions will not be directly callable after loading.\n"
                              ]
                        }
                  ],
                  "source": [
                        "dataset_name = 'twitter'\n",
                        "saved_model_path = './{}_bert'.format(dataset_name.replace('/', '_'))\n",
                        "\n",
                        "classifier_model.save(saved_model_path, include_optimizer=False)\n"
                  ]
            },
            {
                  "cell_type": "code",
                  "execution_count": 24,
                  "metadata": {},
                  "outputs": [
                        {
                              "name": "stdout",
                              "output_type": "stream",
                              "text": [
                                    "625/625 [==============================] - 19s 31ms/step\n"
                              ]
                        }
                  ],
                  "source": [
                        "results = classifier_model.predict(test_ds)\n",
                        "predicted = [1 if val > 0.5 else -1 for val in results]\n",
                        "import pandas as pd\n",
                        "df = pd.DataFrame(predicted, columns=[\"Prediction\"])\n",
                        "df.index.name = \"Id\"\n",
                        "df.index += 1\n",
                        "df.to_csv(pred_path)"
                  ]
            },
            {
                  "cell_type": "code",
                  "execution_count": null,
                  "metadata": {},
                  "outputs": [],
                  "source": []
            }
      ],
      "metadata": {
            "kernelspec": {
                  "display_name": "Python 3.9.7 ('tf-gpu')",
                  "language": "python",
                  "name": "python3"
            },
            "language_info": {
                  "codemirror_mode": {
                        "name": "ipython",
                        "version": 3
                  },
                  "file_extension": ".py",
                  "mimetype": "text/x-python",
                  "name": "python",
                  "nbconvert_exporter": "python",
                  "pygments_lexer": "ipython3",
                  "version": "3.9.7"
            },
            "orig_nbformat": 4,
            "vscode": {
                  "interpreter": {
                        "hash": "7c9a2ba9a59dcfafd7c7bc1e762f2bb703fff9a1e22287fea4368d69fe06fdcb"
                  }
            }
      },
      "nbformat": 4,
      "nbformat_minor": 2
}
